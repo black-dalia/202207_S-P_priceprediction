{
 "cells": [
  {
   "cell_type": "markdown",
   "id": "e500cfab",
   "metadata": {},
   "source": [
    "**Predict The Stock Market With Machine Learning**"
   ]
  },
  {
   "cell_type": "markdown",
   "id": "79540dc2",
   "metadata": {},
   "source": [
    "youtube video \n",
    "https://www.youtube.com/watch?v=1O_BenficgE"
   ]
  },
  {
   "cell_type": "code",
   "execution_count": 1,
   "id": "ef9ac260",
   "metadata": {},
   "outputs": [],
   "source": [
    "import matplotlib.pyplot as plt\n",
    "import numpy as np\n",
    "import pandas as pd\n",
    "import seaborn as sns\n",
    "import datetime"
   ]
  },
  {
   "cell_type": "markdown",
   "id": "ed088667",
   "metadata": {
    "heading_collapsed": true
   },
   "source": [
    "# Download S&P 500 Price Data"
   ]
  },
  {
   "cell_type": "markdown",
   "id": "99fd8d74",
   "metadata": {
    "hidden": true
   },
   "source": [
    "## import package `yfinance` which calls the yahoo finance API to download daily stock and index prices\n"
   ]
  },
  {
   "cell_type": "code",
   "execution_count": 2,
   "id": "7001a24d",
   "metadata": {
    "collapsed": true,
    "hidden": true
   },
   "outputs": [
    {
     "name": "stdout",
     "output_type": "stream",
     "text": [
      "Requirement already satisfied: yfinance in /Users/desireepetrilli/.pyenv/versions/3.8.12/envs/lewagon/lib/python3.8/site-packages (0.1.72)\n",
      "Requirement already satisfied: multitasking>=0.0.7 in /Users/desireepetrilli/.pyenv/versions/3.8.12/envs/lewagon/lib/python3.8/site-packages (from yfinance) (0.0.11)\n",
      "Requirement already satisfied: requests>=2.26 in /Users/desireepetrilli/.pyenv/versions/3.8.12/envs/lewagon/lib/python3.8/site-packages (from yfinance) (2.27.1)\n",
      "Requirement already satisfied: pandas>=0.24.0 in /Users/desireepetrilli/.pyenv/versions/3.8.12/envs/lewagon/lib/python3.8/site-packages (from yfinance) (1.3.5)\n",
      "Requirement already satisfied: lxml>=4.5.1 in /Users/desireepetrilli/.pyenv/versions/3.8.12/envs/lewagon/lib/python3.8/site-packages (from yfinance) (4.7.1)\n",
      "Requirement already satisfied: numpy>=1.15 in /Users/desireepetrilli/.pyenv/versions/3.8.12/envs/lewagon/lib/python3.8/site-packages (from yfinance) (1.18.5)\n",
      "Requirement already satisfied: python-dateutil>=2.7.3 in /Users/desireepetrilli/.pyenv/versions/3.8.12/envs/lewagon/lib/python3.8/site-packages (from pandas>=0.24.0->yfinance) (2.8.2)\n",
      "Requirement already satisfied: pytz>=2017.3 in /Users/desireepetrilli/.pyenv/versions/3.8.12/envs/lewagon/lib/python3.8/site-packages (from pandas>=0.24.0->yfinance) (2021.3)\n",
      "Requirement already satisfied: certifi>=2017.4.17 in /Users/desireepetrilli/.pyenv/versions/3.8.12/envs/lewagon/lib/python3.8/site-packages (from requests>=2.26->yfinance) (2021.10.8)\n",
      "Requirement already satisfied: charset-normalizer~=2.0.0 in /Users/desireepetrilli/.pyenv/versions/3.8.12/envs/lewagon/lib/python3.8/site-packages (from requests>=2.26->yfinance) (2.0.10)\n",
      "Requirement already satisfied: idna<4,>=2.5 in /Users/desireepetrilli/.pyenv/versions/3.8.12/envs/lewagon/lib/python3.8/site-packages (from requests>=2.26->yfinance) (3.3)\n",
      "Requirement already satisfied: urllib3<1.27,>=1.21.1 in /Users/desireepetrilli/.pyenv/versions/3.8.12/envs/lewagon/lib/python3.8/site-packages (from requests>=2.26->yfinance) (1.26.7)\n",
      "Requirement already satisfied: six>=1.5 in /Users/desireepetrilli/.pyenv/versions/3.8.12/envs/lewagon/lib/python3.8/site-packages (from python-dateutil>=2.7.3->pandas>=0.24.0->yfinance) (1.14.0)\n"
     ]
    }
   ],
   "source": [
    "!pip install yfinance"
   ]
  },
  {
   "cell_type": "code",
   "execution_count": 3,
   "id": "0ddb4479",
   "metadata": {
    "hidden": true
   },
   "outputs": [],
   "source": [
    "import yfinance as yf"
   ]
  },
  {
   "cell_type": "markdown",
   "id": "14e6a205",
   "metadata": {
    "hidden": true
   },
   "source": [
    "## Initialize a *Ticker class* which will enable to download price history for a single symbol.\n",
    "ex: TSLA is the symbol to Tesla, AMZN is for Amazon...\\\n",
    "S&P 500 symbol is **^GSPC**"
   ]
  },
  {
   "cell_type": "code",
   "execution_count": 4,
   "id": "1f4ea386",
   "metadata": {
    "hidden": true
   },
   "outputs": [],
   "source": [
    "sp500 = yf.Ticker(\"^GSPC\")"
   ]
  },
  {
   "cell_type": "code",
   "execution_count": 5,
   "id": "773631e6",
   "metadata": {
    "hidden": true
   },
   "outputs": [
    {
     "data": {
      "text/plain": [
       "'^GSPC'"
      ]
     },
     "execution_count": 5,
     "metadata": {},
     "output_type": "execute_result"
    }
   ],
   "source": [
    "sp500.ticker"
   ]
  },
  {
   "cell_type": "code",
   "execution_count": 6,
   "id": "2899bf23",
   "metadata": {
    "hidden": true
   },
   "outputs": [
    {
     "data": {
      "text/plain": [
       "{'ticker': '^GSPC',\n",
       " 'session': None,\n",
       " '_history': None,\n",
       " '_base_url': 'https://query2.finance.yahoo.com',\n",
       " '_scrape_url': 'https://finance.yahoo.com/quote',\n",
       " '_fundamentals': False,\n",
       " '_info': None,\n",
       " '_analysis': None,\n",
       " '_sustainability': None,\n",
       " '_recommendations': None,\n",
       " '_major_holders': None,\n",
       " '_institutional_holders': None,\n",
       " '_mutualfund_holders': None,\n",
       " '_isin': None,\n",
       " '_news': [],\n",
       " '_shares': None,\n",
       " '_calendar': None,\n",
       " '_expirations': {},\n",
       " '_earnings_dates': None,\n",
       " '_earnings_history': None,\n",
       " '_earnings': {'yearly': Empty DataFrame\n",
       "  Columns: [Open, High, Low, Close, Adj Close, Volume]\n",
       "  Index: [],\n",
       "  'quarterly': Empty DataFrame\n",
       "  Columns: [Open, High, Low, Close, Adj Close, Volume]\n",
       "  Index: []},\n",
       " '_financials': {'yearly': Empty DataFrame\n",
       "  Columns: [Open, High, Low, Close, Adj Close, Volume]\n",
       "  Index: [],\n",
       "  'quarterly': Empty DataFrame\n",
       "  Columns: [Open, High, Low, Close, Adj Close, Volume]\n",
       "  Index: []},\n",
       " '_balancesheet': {'yearly': Empty DataFrame\n",
       "  Columns: [Open, High, Low, Close, Adj Close, Volume]\n",
       "  Index: [],\n",
       "  'quarterly': Empty DataFrame\n",
       "  Columns: [Open, High, Low, Close, Adj Close, Volume]\n",
       "  Index: []},\n",
       " '_cashflow': {'yearly': Empty DataFrame\n",
       "  Columns: [Open, High, Low, Close, Adj Close, Volume]\n",
       "  Index: [],\n",
       "  'quarterly': Empty DataFrame\n",
       "  Columns: [Open, High, Low, Close, Adj Close, Volume]\n",
       "  Index: []}}"
      ]
     },
     "execution_count": 6,
     "metadata": {},
     "output_type": "execute_result"
    }
   ],
   "source": [
    "sp500.__dict__"
   ]
  },
  {
   "cell_type": "code",
   "execution_count": 7,
   "id": "cae2af41",
   "metadata": {
    "hidden": true
   },
   "outputs": [],
   "source": [
    "sp500_df = sp500.history(period=\"max\")"
   ]
  },
  {
   "cell_type": "code",
   "execution_count": 8,
   "id": "4acbc5b6",
   "metadata": {
    "hidden": true
   },
   "outputs": [
    {
     "data": {
      "text/plain": [
       "(18248, 7)"
      ]
     },
     "execution_count": 8,
     "metadata": {},
     "output_type": "execute_result"
    }
   ],
   "source": [
    "sp500_df.shape"
   ]
  },
  {
   "cell_type": "code",
   "execution_count": 9,
   "id": "abe7f6ae",
   "metadata": {
    "hidden": true
   },
   "outputs": [
    {
     "name": "stdout",
     "output_type": "stream",
     "text": [
      "<class 'pandas.core.frame.DataFrame'>\n",
      "DatetimeIndex: 18248 entries, 1950-01-03 to 2022-07-11\n",
      "Data columns (total 7 columns):\n",
      " #   Column        Non-Null Count  Dtype  \n",
      "---  ------        --------------  -----  \n",
      " 0   Open          18248 non-null  float64\n",
      " 1   High          18248 non-null  float64\n",
      " 2   Low           18248 non-null  float64\n",
      " 3   Close         18248 non-null  float64\n",
      " 4   Volume        18248 non-null  int64  \n",
      " 5   Dividends     18248 non-null  int64  \n",
      " 6   Stock Splits  18248 non-null  int64  \n",
      "dtypes: float64(4), int64(3)\n",
      "memory usage: 1.1 MB\n"
     ]
    }
   ],
   "source": [
    "sp500_df.info()"
   ]
  },
  {
   "cell_type": "code",
   "execution_count": 10,
   "id": "f91c82b5",
   "metadata": {
    "hidden": true
   },
   "outputs": [
    {
     "data": {
      "text/html": [
       "<div>\n",
       "<style scoped>\n",
       "    .dataframe tbody tr th:only-of-type {\n",
       "        vertical-align: middle;\n",
       "    }\n",
       "\n",
       "    .dataframe tbody tr th {\n",
       "        vertical-align: top;\n",
       "    }\n",
       "\n",
       "    .dataframe thead th {\n",
       "        text-align: right;\n",
       "    }\n",
       "</style>\n",
       "<table border=\"1\" class=\"dataframe\">\n",
       "  <thead>\n",
       "    <tr style=\"text-align: right;\">\n",
       "      <th></th>\n",
       "      <th>Open</th>\n",
       "      <th>High</th>\n",
       "      <th>Low</th>\n",
       "      <th>Close</th>\n",
       "      <th>Volume</th>\n",
       "      <th>Dividends</th>\n",
       "      <th>Stock Splits</th>\n",
       "    </tr>\n",
       "    <tr>\n",
       "      <th>Date</th>\n",
       "      <th></th>\n",
       "      <th></th>\n",
       "      <th></th>\n",
       "      <th></th>\n",
       "      <th></th>\n",
       "      <th></th>\n",
       "      <th></th>\n",
       "    </tr>\n",
       "  </thead>\n",
       "  <tbody>\n",
       "    <tr>\n",
       "      <th>1950-01-03</th>\n",
       "      <td>16.660000</td>\n",
       "      <td>16.660000</td>\n",
       "      <td>16.660000</td>\n",
       "      <td>16.660000</td>\n",
       "      <td>1260000</td>\n",
       "      <td>0</td>\n",
       "      <td>0</td>\n",
       "    </tr>\n",
       "    <tr>\n",
       "      <th>1950-01-04</th>\n",
       "      <td>16.850000</td>\n",
       "      <td>16.850000</td>\n",
       "      <td>16.850000</td>\n",
       "      <td>16.850000</td>\n",
       "      <td>1890000</td>\n",
       "      <td>0</td>\n",
       "      <td>0</td>\n",
       "    </tr>\n",
       "    <tr>\n",
       "      <th>1950-01-05</th>\n",
       "      <td>16.930000</td>\n",
       "      <td>16.930000</td>\n",
       "      <td>16.930000</td>\n",
       "      <td>16.930000</td>\n",
       "      <td>2550000</td>\n",
       "      <td>0</td>\n",
       "      <td>0</td>\n",
       "    </tr>\n",
       "    <tr>\n",
       "      <th>1950-01-06</th>\n",
       "      <td>16.980000</td>\n",
       "      <td>16.980000</td>\n",
       "      <td>16.980000</td>\n",
       "      <td>16.980000</td>\n",
       "      <td>2010000</td>\n",
       "      <td>0</td>\n",
       "      <td>0</td>\n",
       "    </tr>\n",
       "    <tr>\n",
       "      <th>1950-01-09</th>\n",
       "      <td>17.080000</td>\n",
       "      <td>17.080000</td>\n",
       "      <td>17.080000</td>\n",
       "      <td>17.080000</td>\n",
       "      <td>2520000</td>\n",
       "      <td>0</td>\n",
       "      <td>0</td>\n",
       "    </tr>\n",
       "    <tr>\n",
       "      <th>...</th>\n",
       "      <td>...</td>\n",
       "      <td>...</td>\n",
       "      <td>...</td>\n",
       "      <td>...</td>\n",
       "      <td>...</td>\n",
       "      <td>...</td>\n",
       "      <td>...</td>\n",
       "    </tr>\n",
       "    <tr>\n",
       "      <th>2022-07-05</th>\n",
       "      <td>3792.610107</td>\n",
       "      <td>3832.189941</td>\n",
       "      <td>3742.060059</td>\n",
       "      <td>3831.389893</td>\n",
       "      <td>4427900000</td>\n",
       "      <td>0</td>\n",
       "      <td>0</td>\n",
       "    </tr>\n",
       "    <tr>\n",
       "      <th>2022-07-06</th>\n",
       "      <td>3831.979980</td>\n",
       "      <td>3870.909912</td>\n",
       "      <td>3809.370117</td>\n",
       "      <td>3845.080078</td>\n",
       "      <td>3613120000</td>\n",
       "      <td>0</td>\n",
       "      <td>0</td>\n",
       "    </tr>\n",
       "    <tr>\n",
       "      <th>2022-07-07</th>\n",
       "      <td>3858.850098</td>\n",
       "      <td>3910.629883</td>\n",
       "      <td>3858.850098</td>\n",
       "      <td>3902.620117</td>\n",
       "      <td>3337710000</td>\n",
       "      <td>0</td>\n",
       "      <td>0</td>\n",
       "    </tr>\n",
       "    <tr>\n",
       "      <th>2022-07-08</th>\n",
       "      <td>3888.260010</td>\n",
       "      <td>3918.500000</td>\n",
       "      <td>3869.340088</td>\n",
       "      <td>3899.379883</td>\n",
       "      <td>2844620000</td>\n",
       "      <td>0</td>\n",
       "      <td>0</td>\n",
       "    </tr>\n",
       "    <tr>\n",
       "      <th>2022-07-11</th>\n",
       "      <td>3880.939941</td>\n",
       "      <td>3880.939941</td>\n",
       "      <td>3847.219971</td>\n",
       "      <td>3854.429932</td>\n",
       "      <td>3023830000</td>\n",
       "      <td>0</td>\n",
       "      <td>0</td>\n",
       "    </tr>\n",
       "  </tbody>\n",
       "</table>\n",
       "<p>18248 rows × 7 columns</p>\n",
       "</div>"
      ],
      "text/plain": [
       "                   Open         High          Low        Close      Volume  \\\n",
       "Date                                                                         \n",
       "1950-01-03    16.660000    16.660000    16.660000    16.660000     1260000   \n",
       "1950-01-04    16.850000    16.850000    16.850000    16.850000     1890000   \n",
       "1950-01-05    16.930000    16.930000    16.930000    16.930000     2550000   \n",
       "1950-01-06    16.980000    16.980000    16.980000    16.980000     2010000   \n",
       "1950-01-09    17.080000    17.080000    17.080000    17.080000     2520000   \n",
       "...                 ...          ...          ...          ...         ...   \n",
       "2022-07-05  3792.610107  3832.189941  3742.060059  3831.389893  4427900000   \n",
       "2022-07-06  3831.979980  3870.909912  3809.370117  3845.080078  3613120000   \n",
       "2022-07-07  3858.850098  3910.629883  3858.850098  3902.620117  3337710000   \n",
       "2022-07-08  3888.260010  3918.500000  3869.340088  3899.379883  2844620000   \n",
       "2022-07-11  3880.939941  3880.939941  3847.219971  3854.429932  3023830000   \n",
       "\n",
       "            Dividends  Stock Splits  \n",
       "Date                                 \n",
       "1950-01-03          0             0  \n",
       "1950-01-04          0             0  \n",
       "1950-01-05          0             0  \n",
       "1950-01-06          0             0  \n",
       "1950-01-09          0             0  \n",
       "...               ...           ...  \n",
       "2022-07-05          0             0  \n",
       "2022-07-06          0             0  \n",
       "2022-07-07          0             0  \n",
       "2022-07-08          0             0  \n",
       "2022-07-11          0             0  \n",
       "\n",
       "[18248 rows x 7 columns]"
      ]
     },
     "execution_count": 10,
     "metadata": {},
     "output_type": "execute_result"
    }
   ],
   "source": [
    "sp500_df"
   ]
  },
  {
   "cell_type": "code",
   "execution_count": 11,
   "id": "a2015d4a",
   "metadata": {
    "hidden": true
   },
   "outputs": [
    {
     "data": {
      "text/plain": [
       "DatetimeIndex(['1950-01-03', '1950-01-04', '1950-01-05', '1950-01-06',\n",
       "               '1950-01-09', '1950-01-10', '1950-01-11', '1950-01-12',\n",
       "               '1950-01-13', '1950-01-16',\n",
       "               ...\n",
       "               '2022-06-27', '2022-06-28', '2022-06-29', '2022-06-30',\n",
       "               '2022-07-01', '2022-07-05', '2022-07-06', '2022-07-07',\n",
       "               '2022-07-08', '2022-07-11'],\n",
       "              dtype='datetime64[ns]', name='Date', length=18248, freq=None)"
      ]
     },
     "execution_count": 11,
     "metadata": {},
     "output_type": "execute_result"
    }
   ],
   "source": [
    "sp500_df.index"
   ]
  },
  {
   "cell_type": "markdown",
   "id": "d68bda4b",
   "metadata": {
    "heading_collapsed": true
   },
   "source": [
    "# Cleaning and vizualizing our stock market data"
   ]
  },
  {
   "cell_type": "markdown",
   "id": "f031abf4",
   "metadata": {
    "hidden": true
   },
   "source": [
    "## Plot closing price VS Time"
   ]
  },
  {
   "cell_type": "code",
   "execution_count": 12,
   "id": "0125692c",
   "metadata": {
    "hidden": true,
    "scrolled": true
   },
   "outputs": [
    {
     "data": {
      "text/plain": [
       "<AxesSubplot:xlabel='Date'>"
      ]
     },
     "execution_count": 12,
     "metadata": {},
     "output_type": "execute_result"
    },
    {
     "data": {
      "image/png": "[encoded data removed]",
      "text/plain": [
       "<Figure size 432x288 with 1 Axes>"
      ]
     },
     "metadata": {
      "needs_background": "light"
     },
     "output_type": "display_data"
    }
   ],
   "source": [
    "sp500_df.plot(y=\"Close\", use_index=True)"
   ]
  },
  {
   "cell_type": "markdown",
   "id": "eded5163",
   "metadata": {
    "hidden": true
   },
   "source": [
    "## Do some cleaning, remove extra not needed columns "
   ]
  },
  {
   "cell_type": "code",
   "execution_count": 13,
   "id": "1effe38d",
   "metadata": {
    "hidden": true
   },
   "outputs": [
    {
     "data": {
      "text/plain": [
       "Index(['Open', 'High', 'Low', 'Close', 'Volume', 'Dividends', 'Stock Splits'], dtype='object')"
      ]
     },
     "execution_count": 13,
     "metadata": {},
     "output_type": "execute_result"
    }
   ],
   "source": [
    "sp500_df.columns"
   ]
  },
  {
   "cell_type": "code",
   "execution_count": 14,
   "id": "d9c9c5ba",
   "metadata": {
    "hidden": true
   },
   "outputs": [],
   "source": [
    "sp500_df.drop(columns = ['Dividends', 'Stock Splits'], inplace=True)"
   ]
  },
  {
   "cell_type": "code",
   "execution_count": 15,
   "id": "f7ec2ef8",
   "metadata": {
    "hidden": true
   },
   "outputs": [
    {
     "data": {
      "text/html": [
       "<div>\n",
       "<style scoped>\n",
       "    .dataframe tbody tr th:only-of-type {\n",
       "        vertical-align: middle;\n",
       "    }\n",
       "\n",
       "    .dataframe tbody tr th {\n",
       "        vertical-align: top;\n",
       "    }\n",
       "\n",
       "    .dataframe thead th {\n",
       "        text-align: right;\n",
       "    }\n",
       "</style>\n",
       "<table border=\"1\" class=\"dataframe\">\n",
       "  <thead>\n",
       "    <tr style=\"text-align: right;\">\n",
       "      <th></th>\n",
       "      <th>Open</th>\n",
       "      <th>High</th>\n",
       "      <th>Low</th>\n",
       "      <th>Close</th>\n",
       "      <th>Volume</th>\n",
       "    </tr>\n",
       "    <tr>\n",
       "      <th>Date</th>\n",
       "      <th></th>\n",
       "      <th></th>\n",
       "      <th></th>\n",
       "      <th></th>\n",
       "      <th></th>\n",
       "    </tr>\n",
       "  </thead>\n",
       "  <tbody>\n",
       "    <tr>\n",
       "      <th>1950-01-03</th>\n",
       "      <td>16.660000</td>\n",
       "      <td>16.660000</td>\n",
       "      <td>16.660000</td>\n",
       "      <td>16.660000</td>\n",
       "      <td>1260000</td>\n",
       "    </tr>\n",
       "    <tr>\n",
       "      <th>1950-01-04</th>\n",
       "      <td>16.850000</td>\n",
       "      <td>16.850000</td>\n",
       "      <td>16.850000</td>\n",
       "      <td>16.850000</td>\n",
       "      <td>1890000</td>\n",
       "    </tr>\n",
       "    <tr>\n",
       "      <th>1950-01-05</th>\n",
       "      <td>16.930000</td>\n",
       "      <td>16.930000</td>\n",
       "      <td>16.930000</td>\n",
       "      <td>16.930000</td>\n",
       "      <td>2550000</td>\n",
       "    </tr>\n",
       "    <tr>\n",
       "      <th>1950-01-06</th>\n",
       "      <td>16.980000</td>\n",
       "      <td>16.980000</td>\n",
       "      <td>16.980000</td>\n",
       "      <td>16.980000</td>\n",
       "      <td>2010000</td>\n",
       "    </tr>\n",
       "    <tr>\n",
       "      <th>1950-01-09</th>\n",
       "      <td>17.080000</td>\n",
       "      <td>17.080000</td>\n",
       "      <td>17.080000</td>\n",
       "      <td>17.080000</td>\n",
       "      <td>2520000</td>\n",
       "    </tr>\n",
       "    <tr>\n",
       "      <th>...</th>\n",
       "      <td>...</td>\n",
       "      <td>...</td>\n",
       "      <td>...</td>\n",
       "      <td>...</td>\n",
       "      <td>...</td>\n",
       "    </tr>\n",
       "    <tr>\n",
       "      <th>2022-07-05</th>\n",
       "      <td>3792.610107</td>\n",
       "      <td>3832.189941</td>\n",
       "      <td>3742.060059</td>\n",
       "      <td>3831.389893</td>\n",
       "      <td>4427900000</td>\n",
       "    </tr>\n",
       "    <tr>\n",
       "      <th>2022-07-06</th>\n",
       "      <td>3831.979980</td>\n",
       "      <td>3870.909912</td>\n",
       "      <td>3809.370117</td>\n",
       "      <td>3845.080078</td>\n",
       "      <td>3613120000</td>\n",
       "    </tr>\n",
       "    <tr>\n",
       "      <th>2022-07-07</th>\n",
       "      <td>3858.850098</td>\n",
       "      <td>3910.629883</td>\n",
       "      <td>3858.850098</td>\n",
       "      <td>3902.620117</td>\n",
       "      <td>3337710000</td>\n",
       "    </tr>\n",
       "    <tr>\n",
       "      <th>2022-07-08</th>\n",
       "      <td>3888.260010</td>\n",
       "      <td>3918.500000</td>\n",
       "      <td>3869.340088</td>\n",
       "      <td>3899.379883</td>\n",
       "      <td>2844620000</td>\n",
       "    </tr>\n",
       "    <tr>\n",
       "      <th>2022-07-11</th>\n",
       "      <td>3880.939941</td>\n",
       "      <td>3880.939941</td>\n",
       "      <td>3847.219971</td>\n",
       "      <td>3854.429932</td>\n",
       "      <td>3023830000</td>\n",
       "    </tr>\n",
       "  </tbody>\n",
       "</table>\n",
       "<p>18248 rows × 5 columns</p>\n",
       "</div>"
      ],
      "text/plain": [
       "                   Open         High          Low        Close      Volume\n",
       "Date                                                                      \n",
       "1950-01-03    16.660000    16.660000    16.660000    16.660000     1260000\n",
       "1950-01-04    16.850000    16.850000    16.850000    16.850000     1890000\n",
       "1950-01-05    16.930000    16.930000    16.930000    16.930000     2550000\n",
       "1950-01-06    16.980000    16.980000    16.980000    16.980000     2010000\n",
       "1950-01-09    17.080000    17.080000    17.080000    17.080000     2520000\n",
       "...                 ...          ...          ...          ...         ...\n",
       "2022-07-05  3792.610107  3832.189941  3742.060059  3831.389893  4427900000\n",
       "2022-07-06  3831.979980  3870.909912  3809.370117  3845.080078  3613120000\n",
       "2022-07-07  3858.850098  3910.629883  3858.850098  3902.620117  3337710000\n",
       "2022-07-08  3888.260010  3918.500000  3869.340088  3899.379883  2844620000\n",
       "2022-07-11  3880.939941  3880.939941  3847.219971  3854.429932  3023830000\n",
       "\n",
       "[18248 rows x 5 columns]"
      ]
     },
     "execution_count": 15,
     "metadata": {},
     "output_type": "execute_result"
    }
   ],
   "source": [
    "sp500_df"
   ]
  },
  {
   "cell_type": "markdown",
   "id": "9f49301f",
   "metadata": {
    "heading_collapsed": true
   },
   "source": [
    "# Setting up a target for Machine Learning"
   ]
  },
  {
   "cell_type": "markdown",
   "id": "919da0c3",
   "metadata": {
    "hidden": true
   },
   "source": [
    "## Defining the target"
   ]
  },
  {
   "cell_type": "markdown",
   "id": "28e299cb",
   "metadata": {
    "hidden": true
   },
   "source": [
    "What do we want to predict? \n",
    "- tomorrow's price - > a bit too accurate, the model will not be able to catch very well absolute values\n",
    "- **up or down**: ultimately this is what we are after. We do not care much the exact value, we just want to know if we need to buy or sell. The **directionality** is important\n",
    "\n",
    "Target will be: will the stock go up or down? \\\n",
    "Create a column called `Tomorrow` and will give tomorrow's price"
   ]
  },
  {
   "cell_type": "code",
   "execution_count": 16,
   "id": "11c55c3d",
   "metadata": {
    "hidden": true,
    "scrolled": true
   },
   "outputs": [],
   "source": [
    "sp500_df[\"Tomorrow\"] = sp500_df.Close.shift(-1)"
   ]
  },
  {
   "cell_type": "code",
   "execution_count": 17,
   "id": "702c56bd",
   "metadata": {
    "hidden": true
   },
   "outputs": [
    {
     "data": {
      "text/html": [
       "<div>\n",
       "<style scoped>\n",
       "    .dataframe tbody tr th:only-of-type {\n",
       "        vertical-align: middle;\n",
       "    }\n",
       "\n",
       "    .dataframe tbody tr th {\n",
       "        vertical-align: top;\n",
       "    }\n",
       "\n",
       "    .dataframe thead th {\n",
       "        text-align: right;\n",
       "    }\n",
       "</style>\n",
       "<table border=\"1\" class=\"dataframe\">\n",
       "  <thead>\n",
       "    <tr style=\"text-align: right;\">\n",
       "      <th></th>\n",
       "      <th>Open</th>\n",
       "      <th>High</th>\n",
       "      <th>Low</th>\n",
       "      <th>Close</th>\n",
       "      <th>Volume</th>\n",
       "      <th>Tomorrow</th>\n",
       "    </tr>\n",
       "    <tr>\n",
       "      <th>Date</th>\n",
       "      <th></th>\n",
       "      <th></th>\n",
       "      <th></th>\n",
       "      <th></th>\n",
       "      <th></th>\n",
       "      <th></th>\n",
       "    </tr>\n",
       "  </thead>\n",
       "  <tbody>\n",
       "    <tr>\n",
       "      <th>1950-01-03</th>\n",
       "      <td>16.660000</td>\n",
       "      <td>16.660000</td>\n",
       "      <td>16.660000</td>\n",
       "      <td>16.660000</td>\n",
       "      <td>1260000</td>\n",
       "      <td>16.850000</td>\n",
       "    </tr>\n",
       "    <tr>\n",
       "      <th>1950-01-04</th>\n",
       "      <td>16.850000</td>\n",
       "      <td>16.850000</td>\n",
       "      <td>16.850000</td>\n",
       "      <td>16.850000</td>\n",
       "      <td>1890000</td>\n",
       "      <td>16.930000</td>\n",
       "    </tr>\n",
       "    <tr>\n",
       "      <th>1950-01-05</th>\n",
       "      <td>16.930000</td>\n",
       "      <td>16.930000</td>\n",
       "      <td>16.930000</td>\n",
       "      <td>16.930000</td>\n",
       "      <td>2550000</td>\n",
       "      <td>16.980000</td>\n",
       "    </tr>\n",
       "    <tr>\n",
       "      <th>1950-01-06</th>\n",
       "      <td>16.980000</td>\n",
       "      <td>16.980000</td>\n",
       "      <td>16.980000</td>\n",
       "      <td>16.980000</td>\n",
       "      <td>2010000</td>\n",
       "      <td>17.080000</td>\n",
       "    </tr>\n",
       "    <tr>\n",
       "      <th>1950-01-09</th>\n",
       "      <td>17.080000</td>\n",
       "      <td>17.080000</td>\n",
       "      <td>17.080000</td>\n",
       "      <td>17.080000</td>\n",
       "      <td>2520000</td>\n",
       "      <td>17.030001</td>\n",
       "    </tr>\n",
       "    <tr>\n",
       "      <th>...</th>\n",
       "      <td>...</td>\n",
       "      <td>...</td>\n",
       "      <td>...</td>\n",
       "      <td>...</td>\n",
       "      <td>...</td>\n",
       "      <td>...</td>\n",
       "    </tr>\n",
       "    <tr>\n",
       "      <th>2022-07-05</th>\n",
       "      <td>3792.610107</td>\n",
       "      <td>3832.189941</td>\n",
       "      <td>3742.060059</td>\n",
       "      <td>3831.389893</td>\n",
       "      <td>4427900000</td>\n",
       "      <td>3845.080078</td>\n",
       "    </tr>\n",
       "    <tr>\n",
       "      <th>2022-07-06</th>\n",
       "      <td>3831.979980</td>\n",
       "      <td>3870.909912</td>\n",
       "      <td>3809.370117</td>\n",
       "      <td>3845.080078</td>\n",
       "      <td>3613120000</td>\n",
       "      <td>3902.620117</td>\n",
       "    </tr>\n",
       "    <tr>\n",
       "      <th>2022-07-07</th>\n",
       "      <td>3858.850098</td>\n",
       "      <td>3910.629883</td>\n",
       "      <td>3858.850098</td>\n",
       "      <td>3902.620117</td>\n",
       "      <td>3337710000</td>\n",
       "      <td>3899.379883</td>\n",
       "    </tr>\n",
       "    <tr>\n",
       "      <th>2022-07-08</th>\n",
       "      <td>3888.260010</td>\n",
       "      <td>3918.500000</td>\n",
       "      <td>3869.340088</td>\n",
       "      <td>3899.379883</td>\n",
       "      <td>2844620000</td>\n",
       "      <td>3854.429932</td>\n",
       "    </tr>\n",
       "    <tr>\n",
       "      <th>2022-07-11</th>\n",
       "      <td>3880.939941</td>\n",
       "      <td>3880.939941</td>\n",
       "      <td>3847.219971</td>\n",
       "      <td>3854.429932</td>\n",
       "      <td>3023830000</td>\n",
       "      <td>NaN</td>\n",
       "    </tr>\n",
       "  </tbody>\n",
       "</table>\n",
       "<p>18248 rows × 6 columns</p>\n",
       "</div>"
      ],
      "text/plain": [
       "                   Open         High          Low        Close      Volume  \\\n",
       "Date                                                                         \n",
       "1950-01-03    16.660000    16.660000    16.660000    16.660000     1260000   \n",
       "1950-01-04    16.850000    16.850000    16.850000    16.850000     1890000   \n",
       "1950-01-05    16.930000    16.930000    16.930000    16.930000     2550000   \n",
       "1950-01-06    16.980000    16.980000    16.980000    16.980000     2010000   \n",
       "1950-01-09    17.080000    17.080000    17.080000    17.080000     2520000   \n",
       "...                 ...          ...          ...          ...         ...   \n",
       "2022-07-05  3792.610107  3832.189941  3742.060059  3831.389893  4427900000   \n",
       "2022-07-06  3831.979980  3870.909912  3809.370117  3845.080078  3613120000   \n",
       "2022-07-07  3858.850098  3910.629883  3858.850098  3902.620117  3337710000   \n",
       "2022-07-08  3888.260010  3918.500000  3869.340088  3899.379883  2844620000   \n",
       "2022-07-11  3880.939941  3880.939941  3847.219971  3854.429932  3023830000   \n",
       "\n",
       "               Tomorrow  \n",
       "Date                     \n",
       "1950-01-03    16.850000  \n",
       "1950-01-04    16.930000  \n",
       "1950-01-05    16.980000  \n",
       "1950-01-06    17.080000  \n",
       "1950-01-09    17.030001  \n",
       "...                 ...  \n",
       "2022-07-05  3845.080078  \n",
       "2022-07-06  3902.620117  \n",
       "2022-07-07  3899.379883  \n",
       "2022-07-08  3854.429932  \n",
       "2022-07-11          NaN  \n",
       "\n",
       "[18248 rows x 6 columns]"
      ]
     },
     "execution_count": 17,
     "metadata": {},
     "output_type": "execute_result"
    }
   ],
   "source": [
    "sp500_df"
   ]
  },
  {
   "cell_type": "code",
   "execution_count": 18,
   "id": "bdddd7f8",
   "metadata": {
    "hidden": true
   },
   "outputs": [],
   "source": [
    "sp500_df[\"Target\"] = (sp500_df.Close < sp500_df.Tomorrow).astype(int)"
   ]
  },
  {
   "cell_type": "code",
   "execution_count": 19,
   "id": "2e8eb231",
   "metadata": {
    "hidden": true
   },
   "outputs": [
    {
     "data": {
      "text/html": [
       "<div>\n",
       "<style scoped>\n",
       "    .dataframe tbody tr th:only-of-type {\n",
       "        vertical-align: middle;\n",
       "    }\n",
       "\n",
       "    .dataframe tbody tr th {\n",
       "        vertical-align: top;\n",
       "    }\n",
       "\n",
       "    .dataframe thead th {\n",
       "        text-align: right;\n",
       "    }\n",
       "</style>\n",
       "<table border=\"1\" class=\"dataframe\">\n",
       "  <thead>\n",
       "    <tr style=\"text-align: right;\">\n",
       "      <th></th>\n",
       "      <th>Open</th>\n",
       "      <th>High</th>\n",
       "      <th>Low</th>\n",
       "      <th>Close</th>\n",
       "      <th>Volume</th>\n",
       "      <th>Tomorrow</th>\n",
       "      <th>Target</th>\n",
       "    </tr>\n",
       "    <tr>\n",
       "      <th>Date</th>\n",
       "      <th></th>\n",
       "      <th></th>\n",
       "      <th></th>\n",
       "      <th></th>\n",
       "      <th></th>\n",
       "      <th></th>\n",
       "      <th></th>\n",
       "    </tr>\n",
       "  </thead>\n",
       "  <tbody>\n",
       "    <tr>\n",
       "      <th>1950-01-03</th>\n",
       "      <td>16.660000</td>\n",
       "      <td>16.660000</td>\n",
       "      <td>16.660000</td>\n",
       "      <td>16.660000</td>\n",
       "      <td>1260000</td>\n",
       "      <td>16.850000</td>\n",
       "      <td>1</td>\n",
       "    </tr>\n",
       "    <tr>\n",
       "      <th>1950-01-04</th>\n",
       "      <td>16.850000</td>\n",
       "      <td>16.850000</td>\n",
       "      <td>16.850000</td>\n",
       "      <td>16.850000</td>\n",
       "      <td>1890000</td>\n",
       "      <td>16.930000</td>\n",
       "      <td>1</td>\n",
       "    </tr>\n",
       "    <tr>\n",
       "      <th>1950-01-05</th>\n",
       "      <td>16.930000</td>\n",
       "      <td>16.930000</td>\n",
       "      <td>16.930000</td>\n",
       "      <td>16.930000</td>\n",
       "      <td>2550000</td>\n",
       "      <td>16.980000</td>\n",
       "      <td>1</td>\n",
       "    </tr>\n",
       "    <tr>\n",
       "      <th>1950-01-06</th>\n",
       "      <td>16.980000</td>\n",
       "      <td>16.980000</td>\n",
       "      <td>16.980000</td>\n",
       "      <td>16.980000</td>\n",
       "      <td>2010000</td>\n",
       "      <td>17.080000</td>\n",
       "      <td>1</td>\n",
       "    </tr>\n",
       "    <tr>\n",
       "      <th>1950-01-09</th>\n",
       "      <td>17.080000</td>\n",
       "      <td>17.080000</td>\n",
       "      <td>17.080000</td>\n",
       "      <td>17.080000</td>\n",
       "      <td>2520000</td>\n",
       "      <td>17.030001</td>\n",
       "      <td>0</td>\n",
       "    </tr>\n",
       "    <tr>\n",
       "      <th>...</th>\n",
       "      <td>...</td>\n",
       "      <td>...</td>\n",
       "      <td>...</td>\n",
       "      <td>...</td>\n",
       "      <td>...</td>\n",
       "      <td>...</td>\n",
       "      <td>...</td>\n",
       "    </tr>\n",
       "    <tr>\n",
       "      <th>2022-07-05</th>\n",
       "      <td>3792.610107</td>\n",
       "      <td>3832.189941</td>\n",
       "      <td>3742.060059</td>\n",
       "      <td>3831.389893</td>\n",
       "      <td>4427900000</td>\n",
       "      <td>3845.080078</td>\n",
       "      <td>1</td>\n",
       "    </tr>\n",
       "    <tr>\n",
       "      <th>2022-07-06</th>\n",
       "      <td>3831.979980</td>\n",
       "      <td>3870.909912</td>\n",
       "      <td>3809.370117</td>\n",
       "      <td>3845.080078</td>\n",
       "      <td>3613120000</td>\n",
       "      <td>3902.620117</td>\n",
       "      <td>1</td>\n",
       "    </tr>\n",
       "    <tr>\n",
       "      <th>2022-07-07</th>\n",
       "      <td>3858.850098</td>\n",
       "      <td>3910.629883</td>\n",
       "      <td>3858.850098</td>\n",
       "      <td>3902.620117</td>\n",
       "      <td>3337710000</td>\n",
       "      <td>3899.379883</td>\n",
       "      <td>0</td>\n",
       "    </tr>\n",
       "    <tr>\n",
       "      <th>2022-07-08</th>\n",
       "      <td>3888.260010</td>\n",
       "      <td>3918.500000</td>\n",
       "      <td>3869.340088</td>\n",
       "      <td>3899.379883</td>\n",
       "      <td>2844620000</td>\n",
       "      <td>3854.429932</td>\n",
       "      <td>0</td>\n",
       "    </tr>\n",
       "    <tr>\n",
       "      <th>2022-07-11</th>\n",
       "      <td>3880.939941</td>\n",
       "      <td>3880.939941</td>\n",
       "      <td>3847.219971</td>\n",
       "      <td>3854.429932</td>\n",
       "      <td>3023830000</td>\n",
       "      <td>NaN</td>\n",
       "      <td>0</td>\n",
       "    </tr>\n",
       "  </tbody>\n",
       "</table>\n",
       "<p>18248 rows × 7 columns</p>\n",
       "</div>"
      ],
      "text/plain": [
       "                   Open         High          Low        Close      Volume  \\\n",
       "Date                                                                         \n",
       "1950-01-03    16.660000    16.660000    16.660000    16.660000     1260000   \n",
       "1950-01-04    16.850000    16.850000    16.850000    16.850000     1890000   \n",
       "1950-01-05    16.930000    16.930000    16.930000    16.930000     2550000   \n",
       "1950-01-06    16.980000    16.980000    16.980000    16.980000     2010000   \n",
       "1950-01-09    17.080000    17.080000    17.080000    17.080000     2520000   \n",
       "...                 ...          ...          ...          ...         ...   \n",
       "2022-07-05  3792.610107  3832.189941  3742.060059  3831.389893  4427900000   \n",
       "2022-07-06  3831.979980  3870.909912  3809.370117  3845.080078  3613120000   \n",
       "2022-07-07  3858.850098  3910.629883  3858.850098  3902.620117  3337710000   \n",
       "2022-07-08  3888.260010  3918.500000  3869.340088  3899.379883  2844620000   \n",
       "2022-07-11  3880.939941  3880.939941  3847.219971  3854.429932  3023830000   \n",
       "\n",
       "               Tomorrow  Target  \n",
       "Date                             \n",
       "1950-01-03    16.850000       1  \n",
       "1950-01-04    16.930000       1  \n",
       "1950-01-05    16.980000       1  \n",
       "1950-01-06    17.080000       1  \n",
       "1950-01-09    17.030001       0  \n",
       "...                 ...     ...  \n",
       "2022-07-05  3845.080078       1  \n",
       "2022-07-06  3902.620117       1  \n",
       "2022-07-07  3899.379883       0  \n",
       "2022-07-08  3854.429932       0  \n",
       "2022-07-11          NaN       0  \n",
       "\n",
       "[18248 rows x 7 columns]"
      ]
     },
     "execution_count": 19,
     "metadata": {},
     "output_type": "execute_result"
    }
   ],
   "source": [
    "sp500_df"
   ]
  },
  {
   "cell_type": "markdown",
   "id": "6d471ee6",
   "metadata": {
    "heading_collapsed": true,
    "hidden": true
   },
   "source": [
    "## Remove some historical data"
   ]
  },
  {
   "cell_type": "markdown",
   "id": "4c45ab84",
   "metadata": {
    "hidden": true
   },
   "source": [
    "In stock market some historical data are not that relevant because the market may have changed drastically. \\\n",
    "Remove all data before 1990"
   ]
  },
  {
   "cell_type": "code",
   "execution_count": 20,
   "id": "99aec831",
   "metadata": {
    "hidden": true
   },
   "outputs": [
    {
     "data": {
      "text/html": [
       "<div>\n",
       "<style scoped>\n",
       "    .dataframe tbody tr th:only-of-type {\n",
       "        vertical-align: middle;\n",
       "    }\n",
       "\n",
       "    .dataframe tbody tr th {\n",
       "        vertical-align: top;\n",
       "    }\n",
       "\n",
       "    .dataframe thead th {\n",
       "        text-align: right;\n",
       "    }\n",
       "</style>\n",
       "<table border=\"1\" class=\"dataframe\">\n",
       "  <thead>\n",
       "    <tr style=\"text-align: right;\">\n",
       "      <th></th>\n",
       "      <th>Open</th>\n",
       "      <th>High</th>\n",
       "      <th>Low</th>\n",
       "      <th>Close</th>\n",
       "      <th>Volume</th>\n",
       "      <th>Tomorrow</th>\n",
       "      <th>Target</th>\n",
       "    </tr>\n",
       "    <tr>\n",
       "      <th>Date</th>\n",
       "      <th></th>\n",
       "      <th></th>\n",
       "      <th></th>\n",
       "      <th></th>\n",
       "      <th></th>\n",
       "      <th></th>\n",
       "      <th></th>\n",
       "    </tr>\n",
       "  </thead>\n",
       "  <tbody>\n",
       "    <tr>\n",
       "      <th>1990-01-02</th>\n",
       "      <td>353.399994</td>\n",
       "      <td>359.690002</td>\n",
       "      <td>351.980011</td>\n",
       "      <td>359.690002</td>\n",
       "      <td>162070000</td>\n",
       "      <td>358.760010</td>\n",
       "      <td>0</td>\n",
       "    </tr>\n",
       "    <tr>\n",
       "      <th>1990-01-03</th>\n",
       "      <td>359.690002</td>\n",
       "      <td>360.589996</td>\n",
       "      <td>357.890015</td>\n",
       "      <td>358.760010</td>\n",
       "      <td>192330000</td>\n",
       "      <td>355.670013</td>\n",
       "      <td>0</td>\n",
       "    </tr>\n",
       "    <tr>\n",
       "      <th>1990-01-04</th>\n",
       "      <td>358.760010</td>\n",
       "      <td>358.760010</td>\n",
       "      <td>352.890015</td>\n",
       "      <td>355.670013</td>\n",
       "      <td>177000000</td>\n",
       "      <td>352.200012</td>\n",
       "      <td>0</td>\n",
       "    </tr>\n",
       "    <tr>\n",
       "      <th>1990-01-05</th>\n",
       "      <td>355.670013</td>\n",
       "      <td>355.670013</td>\n",
       "      <td>351.350006</td>\n",
       "      <td>352.200012</td>\n",
       "      <td>158530000</td>\n",
       "      <td>353.790009</td>\n",
       "      <td>1</td>\n",
       "    </tr>\n",
       "    <tr>\n",
       "      <th>1990-01-08</th>\n",
       "      <td>352.200012</td>\n",
       "      <td>354.239990</td>\n",
       "      <td>350.540009</td>\n",
       "      <td>353.790009</td>\n",
       "      <td>140110000</td>\n",
       "      <td>349.619995</td>\n",
       "      <td>0</td>\n",
       "    </tr>\n",
       "    <tr>\n",
       "      <th>...</th>\n",
       "      <td>...</td>\n",
       "      <td>...</td>\n",
       "      <td>...</td>\n",
       "      <td>...</td>\n",
       "      <td>...</td>\n",
       "      <td>...</td>\n",
       "      <td>...</td>\n",
       "    </tr>\n",
       "    <tr>\n",
       "      <th>2022-07-05</th>\n",
       "      <td>3792.610107</td>\n",
       "      <td>3832.189941</td>\n",
       "      <td>3742.060059</td>\n",
       "      <td>3831.389893</td>\n",
       "      <td>4427900000</td>\n",
       "      <td>3845.080078</td>\n",
       "      <td>1</td>\n",
       "    </tr>\n",
       "    <tr>\n",
       "      <th>2022-07-06</th>\n",
       "      <td>3831.979980</td>\n",
       "      <td>3870.909912</td>\n",
       "      <td>3809.370117</td>\n",
       "      <td>3845.080078</td>\n",
       "      <td>3613120000</td>\n",
       "      <td>3902.620117</td>\n",
       "      <td>1</td>\n",
       "    </tr>\n",
       "    <tr>\n",
       "      <th>2022-07-07</th>\n",
       "      <td>3858.850098</td>\n",
       "      <td>3910.629883</td>\n",
       "      <td>3858.850098</td>\n",
       "      <td>3902.620117</td>\n",
       "      <td>3337710000</td>\n",
       "      <td>3899.379883</td>\n",
       "      <td>0</td>\n",
       "    </tr>\n",
       "    <tr>\n",
       "      <th>2022-07-08</th>\n",
       "      <td>3888.260010</td>\n",
       "      <td>3918.500000</td>\n",
       "      <td>3869.340088</td>\n",
       "      <td>3899.379883</td>\n",
       "      <td>2844620000</td>\n",
       "      <td>3854.429932</td>\n",
       "      <td>0</td>\n",
       "    </tr>\n",
       "    <tr>\n",
       "      <th>2022-07-11</th>\n",
       "      <td>3880.939941</td>\n",
       "      <td>3880.939941</td>\n",
       "      <td>3847.219971</td>\n",
       "      <td>3854.429932</td>\n",
       "      <td>3023830000</td>\n",
       "      <td>NaN</td>\n",
       "      <td>0</td>\n",
       "    </tr>\n",
       "  </tbody>\n",
       "</table>\n",
       "<p>8194 rows × 7 columns</p>\n",
       "</div>"
      ],
      "text/plain": [
       "                   Open         High          Low        Close      Volume  \\\n",
       "Date                                                                         \n",
       "1990-01-02   353.399994   359.690002   351.980011   359.690002   162070000   \n",
       "1990-01-03   359.690002   360.589996   357.890015   358.760010   192330000   \n",
       "1990-01-04   358.760010   358.760010   352.890015   355.670013   177000000   \n",
       "1990-01-05   355.670013   355.670013   351.350006   352.200012   158530000   \n",
       "1990-01-08   352.200012   354.239990   350.540009   353.790009   140110000   \n",
       "...                 ...          ...          ...          ...         ...   \n",
       "2022-07-05  3792.610107  3832.189941  3742.060059  3831.389893  4427900000   \n",
       "2022-07-06  3831.979980  3870.909912  3809.370117  3845.080078  3613120000   \n",
       "2022-07-07  3858.850098  3910.629883  3858.850098  3902.620117  3337710000   \n",
       "2022-07-08  3888.260010  3918.500000  3869.340088  3899.379883  2844620000   \n",
       "2022-07-11  3880.939941  3880.939941  3847.219971  3854.429932  3023830000   \n",
       "\n",
       "               Tomorrow  Target  \n",
       "Date                             \n",
       "1990-01-02   358.760010       0  \n",
       "1990-01-03   355.670013       0  \n",
       "1990-01-04   352.200012       0  \n",
       "1990-01-05   353.790009       1  \n",
       "1990-01-08   349.619995       0  \n",
       "...                 ...     ...  \n",
       "2022-07-05  3845.080078       1  \n",
       "2022-07-06  3902.620117       1  \n",
       "2022-07-07  3899.379883       0  \n",
       "2022-07-08  3854.429932       0  \n",
       "2022-07-11          NaN       0  \n",
       "\n",
       "[8194 rows x 7 columns]"
      ]
     },
     "execution_count": 20,
     "metadata": {},
     "output_type": "execute_result"
    }
   ],
   "source": [
    "sp500_df[sp500_df.index>=datetime.datetime(1990,1,1)]"
   ]
  },
  {
   "cell_type": "markdown",
   "id": "7a5030f3",
   "metadata": {
    "hidden": true
   },
   "source": [
    "Or another way to select with loc[]. \\\n",
    "Do not forget the .copy() to avoid messages from python"
   ]
  },
  {
   "cell_type": "code",
   "execution_count": 21,
   "id": "6ee86b69",
   "metadata": {
    "hidden": true
   },
   "outputs": [],
   "source": [
    "sp500_df = sp500_df.loc[\"1990-01-01\":].copy()"
   ]
  },
  {
   "cell_type": "markdown",
   "id": "c8161b33",
   "metadata": {
    "heading_collapsed": true
   },
   "source": [
    "# Training initial model: random forest"
   ]
  },
  {
   "cell_type": "markdown",
   "id": "391e3c16",
   "metadata": {
    "hidden": true
   },
   "source": [
    "Random Forest is a good initial model. \\\n",
    "It works by:\n",
    "- training a bunch of individual decision trees with **randomized parameters**\n",
    "- averaging the result\n",
    "\n",
    "random forest benefits are:\n",
    "- resistant to overfitting\n",
    "- run quickly\n",
    "- pick up non linear tendencies. \n",
    "\n",
    "In this case there is no linearity between the input and target (0 or 1)"
   ]
  },
  {
   "cell_type": "code",
   "execution_count": 22,
   "id": "cfe2dc72",
   "metadata": {
    "hidden": true
   },
   "outputs": [],
   "source": [
    "from sklearn.ensemble import RandomForestClassifier"
   ]
  },
  {
   "cell_type": "markdown",
   "id": "6a98a65c",
   "metadata": {
    "heading_collapsed": true,
    "hidden": true
   },
   "source": [
    "## Initialize a model\n",
    "\n",
    "`n_estimators`: how many decision trees we want to initialize. The more the more accurate, but the longer. 100 is pretty low. \\\n",
    "`min_samples_split`: prevents overfitting (decision tress tend to overfit if they are built too deeply). the higher, the less accurate the model, but the less it will overfit. \\\n",
    "`random_state`: just to have the same initialization when you are trying to improving a model\n"
   ]
  },
  {
   "cell_type": "code",
   "execution_count": 23,
   "id": "8fa48dbe",
   "metadata": {
    "hidden": true
   },
   "outputs": [],
   "source": [
    "model = RandomForestClassifier(n_estimators=100, min_samples_split=100, random_state=1)"
   ]
  },
  {
   "cell_type": "markdown",
   "id": "05dea951",
   "metadata": {
    "heading_collapsed": true,
    "hidden": true
   },
   "source": [
    "## Split the input data for train and test\n",
    "This is **time series data**: do not use cross validation. if we used cross val, we will be using future data to predict the past... this results in leakage!\\\n",
    "Choose all data except for the last 100 for the train set and the last 100 values for the test set"
   ]
  },
  {
   "cell_type": "code",
   "execution_count": 24,
   "id": "38a05bd6",
   "metadata": {
    "hidden": true
   },
   "outputs": [],
   "source": [
    "train = sp500_df.iloc[:-100]\n",
    "test = sp500_df.iloc[-100:]\n"
   ]
  },
  {
   "cell_type": "markdown",
   "id": "ac9e94dd",
   "metadata": {
    "hidden": true
   },
   "source": [
    "**Set predictors**\n",
    "create a list of all possible predictors to be sure you remove the target from it!"
   ]
  },
  {
   "cell_type": "code",
   "execution_count": 25,
   "id": "751e8949",
   "metadata": {
    "hidden": true
   },
   "outputs": [
    {
     "data": {
      "text/plain": [
       "['Open', 'High', 'Low', 'Close', 'Volume', 'Tomorrow', 'Target']"
      ]
     },
     "execution_count": 25,
     "metadata": {},
     "output_type": "execute_result"
    }
   ],
   "source": [
    "list(sp500_df.columns)"
   ]
  },
  {
   "cell_type": "code",
   "execution_count": 26,
   "id": "a9acadb7",
   "metadata": {
    "hidden": true
   },
   "outputs": [],
   "source": [
    "predictors = [\"Close\", \"Volume\", \"Open\", \"High\", \"Low\"]"
   ]
  },
  {
   "cell_type": "markdown",
   "id": "c2a807b0",
   "metadata": {
    "hidden": true
   },
   "source": [
    "## Train the model"
   ]
  },
  {
   "cell_type": "code",
   "execution_count": 81,
   "id": "fe538184",
   "metadata": {
    "hidden": true
   },
   "outputs": [
    {
     "data": {
      "text/plain": [
       "RandomForestClassifier(min_samples_split=100, random_state=1)"
      ]
     },
     "execution_count": 81,
     "metadata": {},
     "output_type": "execute_result"
    }
   ],
   "source": [
    "model.fit(train[predictors], train.Target)"
   ]
  },
  {
   "cell_type": "code",
   "execution_count": 82,
   "id": "f3669928",
   "metadata": {
    "collapsed": true,
    "hidden": true
   },
   "outputs": [
    {
     "data": {
      "text/plain": [
       "{'base_estimator': DecisionTreeClassifier(),\n",
       " 'n_estimators': 100,\n",
       " 'estimator_params': ('criterion',\n",
       "  'max_depth',\n",
       "  'min_samples_split',\n",
       "  'min_samples_leaf',\n",
       "  'min_weight_fraction_leaf',\n",
       "  'max_features',\n",
       "  'max_leaf_nodes',\n",
       "  'min_impurity_decrease',\n",
       "  'random_state',\n",
       "  'ccp_alpha'),\n",
       " 'bootstrap': True,\n",
       " 'oob_score': False,\n",
       " 'n_jobs': None,\n",
       " 'random_state': 1,\n",
       " 'verbose': 0,\n",
       " 'warm_start': False,\n",
       " 'class_weight': None,\n",
       " 'max_samples': None,\n",
       " 'criterion': 'gini',\n",
       " 'max_depth': None,\n",
       " 'min_samples_split': 100,\n",
       " 'min_samples_leaf': 1,\n",
       " 'min_weight_fraction_leaf': 0.0,\n",
       " 'max_features': 'auto',\n",
       " 'max_leaf_nodes': None,\n",
       " 'min_impurity_decrease': 0.0,\n",
       " 'ccp_alpha': 0.0,\n",
       " 'feature_names_in_': array(['Close', 'Volume', 'Open', 'High', 'Low'], dtype=object),\n",
       " 'n_features_in_': 5,\n",
       " 'n_outputs_': 1,\n",
       " 'classes_': array([0, 1]),\n",
       " 'n_classes_': 2,\n",
       " 'base_estimator_': DecisionTreeClassifier(),\n",
       " 'estimators_': [DecisionTreeClassifier(max_features='auto', min_samples_split=100,\n",
       "                         random_state=1791095845),\n",
       "  DecisionTreeClassifier(max_features='auto', min_samples_split=100,\n",
       "                         random_state=2135392491),\n",
       "  DecisionTreeClassifier(max_features='auto', min_samples_split=100,\n",
       "                         random_state=946286476),\n",
       "  DecisionTreeClassifier(max_features='auto', min_samples_split=100,\n",
       "                         random_state=1857819720),\n",
       "  DecisionTreeClassifier(max_features='auto', min_samples_split=100,\n",
       "                         random_state=491263),\n",
       "  DecisionTreeClassifier(max_features='auto', min_samples_split=100,\n",
       "                         random_state=550290313),\n",
       "  DecisionTreeClassifier(max_features='auto', min_samples_split=100,\n",
       "                         random_state=1298508491),\n",
       "  DecisionTreeClassifier(max_features='auto', min_samples_split=100,\n",
       "                         random_state=2143362693),\n",
       "  DecisionTreeClassifier(max_features='auto', min_samples_split=100,\n",
       "                         random_state=630311759),\n",
       "  DecisionTreeClassifier(max_features='auto', min_samples_split=100,\n",
       "                         random_state=1013994432),\n",
       "  DecisionTreeClassifier(max_features='auto', min_samples_split=100,\n",
       "                         random_state=396591248),\n",
       "  DecisionTreeClassifier(max_features='auto', min_samples_split=100,\n",
       "                         random_state=1703301249),\n",
       "  DecisionTreeClassifier(max_features='auto', min_samples_split=100,\n",
       "                         random_state=799981516),\n",
       "  DecisionTreeClassifier(max_features='auto', min_samples_split=100,\n",
       "                         random_state=1666063943),\n",
       "  DecisionTreeClassifier(max_features='auto', min_samples_split=100,\n",
       "                         random_state=1484172013),\n",
       "  DecisionTreeClassifier(max_features='auto', min_samples_split=100,\n",
       "                         random_state=729053692),\n",
       "  DecisionTreeClassifier(max_features='auto', min_samples_split=100,\n",
       "                         random_state=1704103302),\n",
       "  DecisionTreeClassifier(max_features='auto', min_samples_split=100,\n",
       "                         random_state=1870626073),\n",
       "  DecisionTreeClassifier(max_features='auto', min_samples_split=100,\n",
       "                         random_state=166716594),\n",
       "  DecisionTreeClassifier(max_features='auto', min_samples_split=100,\n",
       "                         random_state=1487394068),\n",
       "  DecisionTreeClassifier(max_features='auto', min_samples_split=100,\n",
       "                         random_state=1800426750),\n",
       "  DecisionTreeClassifier(max_features='auto', min_samples_split=100,\n",
       "                         random_state=1345499493),\n",
       "  DecisionTreeClassifier(max_features='auto', min_samples_split=100,\n",
       "                         random_state=795511698),\n",
       "  DecisionTreeClassifier(max_features='auto', min_samples_split=100,\n",
       "                         random_state=105433556),\n",
       "  DecisionTreeClassifier(max_features='auto', min_samples_split=100,\n",
       "                         random_state=878115723),\n",
       "  DecisionTreeClassifier(max_features='auto', min_samples_split=100,\n",
       "                         random_state=1904615676),\n",
       "  DecisionTreeClassifier(max_features='auto', min_samples_split=100,\n",
       "                         random_state=1624002026),\n",
       "  DecisionTreeClassifier(max_features='auto', min_samples_split=100,\n",
       "                         random_state=986026652),\n",
       "  DecisionTreeClassifier(max_features='auto', min_samples_split=100,\n",
       "                         random_state=117628829),\n",
       "  DecisionTreeClassifier(max_features='auto', min_samples_split=100,\n",
       "                         random_state=147806606),\n",
       "  DecisionTreeClassifier(max_features='auto', min_samples_split=100,\n",
       "                         random_state=732152370),\n",
       "  DecisionTreeClassifier(max_features='auto', min_samples_split=100,\n",
       "                         random_state=1777953348),\n",
       "  DecisionTreeClassifier(max_features='auto', min_samples_split=100,\n",
       "                         random_state=1792310487),\n",
       "  DecisionTreeClassifier(max_features='auto', min_samples_split=100,\n",
       "                         random_state=1963679703),\n",
       "  DecisionTreeClassifier(max_features='auto', min_samples_split=100,\n",
       "                         random_state=252070889),\n",
       "  DecisionTreeClassifier(max_features='auto', min_samples_split=100,\n",
       "                         random_state=1849836273),\n",
       "  DecisionTreeClassifier(max_features='auto', min_samples_split=100,\n",
       "                         random_state=602957303),\n",
       "  DecisionTreeClassifier(max_features='auto', min_samples_split=100,\n",
       "                         random_state=1886039518),\n",
       "  DecisionTreeClassifier(max_features='auto', min_samples_split=100,\n",
       "                         random_state=850839392),\n",
       "  DecisionTreeClassifier(max_features='auto', min_samples_split=100,\n",
       "                         random_state=1195672662),\n",
       "  DecisionTreeClassifier(max_features='auto', min_samples_split=100,\n",
       "                         random_state=1291688077),\n",
       "  DecisionTreeClassifier(max_features='auto', min_samples_split=100,\n",
       "                         random_state=927586281),\n",
       "  DecisionTreeClassifier(max_features='auto', min_samples_split=100,\n",
       "                         random_state=2011168137),\n",
       "  DecisionTreeClassifier(max_features='auto', min_samples_split=100,\n",
       "                         random_state=1300333575),\n",
       "  DecisionTreeClassifier(max_features='auto', min_samples_split=100,\n",
       "                         random_state=1346146623),\n",
       "  DecisionTreeClassifier(max_features='auto', min_samples_split=100,\n",
       "                         random_state=398576445),\n",
       "  DecisionTreeClassifier(max_features='auto', min_samples_split=100,\n",
       "                         random_state=826019350),\n",
       "  DecisionTreeClassifier(max_features='auto', min_samples_split=100,\n",
       "                         random_state=77964601),\n",
       "  DecisionTreeClassifier(max_features='auto', min_samples_split=100,\n",
       "                         random_state=1616579073),\n",
       "  DecisionTreeClassifier(max_features='auto', min_samples_split=100,\n",
       "                         random_state=1567750016),\n",
       "  DecisionTreeClassifier(max_features='auto', min_samples_split=100,\n",
       "                         random_state=1694822716),\n",
       "  DecisionTreeClassifier(max_features='auto', min_samples_split=100,\n",
       "                         random_state=1413675217),\n",
       "  DecisionTreeClassifier(max_features='auto', min_samples_split=100,\n",
       "                         random_state=365262088),\n",
       "  DecisionTreeClassifier(max_features='auto', min_samples_split=100,\n",
       "                         random_state=1415635672),\n",
       "  DecisionTreeClassifier(max_features='auto', min_samples_split=100,\n",
       "                         random_state=167739021),\n",
       "  DecisionTreeClassifier(max_features='auto', min_samples_split=100,\n",
       "                         random_state=1172740723),\n",
       "  DecisionTreeClassifier(max_features='auto', min_samples_split=100,\n",
       "                         random_state=729416111),\n",
       "  DecisionTreeClassifier(max_features='auto', min_samples_split=100,\n",
       "                         random_state=254447594),\n",
       "  DecisionTreeClassifier(max_features='auto', min_samples_split=100,\n",
       "                         random_state=1624109689),\n",
       "  DecisionTreeClassifier(max_features='auto', min_samples_split=100,\n",
       "                         random_state=732412360),\n",
       "  DecisionTreeClassifier(max_features='auto', min_samples_split=100,\n",
       "                         random_state=422396446),\n",
       "  DecisionTreeClassifier(max_features='auto', min_samples_split=100,\n",
       "                         random_state=399713351),\n",
       "  DecisionTreeClassifier(max_features='auto', min_samples_split=100,\n",
       "                         random_state=1808643459),\n",
       "  DecisionTreeClassifier(max_features='auto', min_samples_split=100,\n",
       "                         random_state=737248710),\n",
       "  DecisionTreeClassifier(max_features='auto', min_samples_split=100,\n",
       "                         random_state=1966620565),\n",
       "  DecisionTreeClassifier(max_features='auto', min_samples_split=100,\n",
       "                         random_state=1768615473),\n",
       "  DecisionTreeClassifier(max_features='auto', min_samples_split=100,\n",
       "                         random_state=142443833),\n",
       "  DecisionTreeClassifier(max_features='auto', min_samples_split=100,\n",
       "                         random_state=848474627),\n",
       "  DecisionTreeClassifier(max_features='auto', min_samples_split=100,\n",
       "                         random_state=824105924),\n",
       "  DecisionTreeClassifier(max_features='auto', min_samples_split=100,\n",
       "                         random_state=1243949848),\n",
       "  DecisionTreeClassifier(max_features='auto', min_samples_split=100,\n",
       "                         random_state=1355129329),\n",
       "  DecisionTreeClassifier(max_features='auto', min_samples_split=100,\n",
       "                         random_state=610401323),\n",
       "  DecisionTreeClassifier(max_features='auto', min_samples_split=100,\n",
       "                         random_state=801015372),\n",
       "  DecisionTreeClassifier(max_features='auto', min_samples_split=100,\n",
       "                         random_state=1216826394),\n",
       "  DecisionTreeClassifier(max_features='auto', min_samples_split=100,\n",
       "                         random_state=1437206324),\n",
       "  DecisionTreeClassifier(max_features='auto', min_samples_split=100,\n",
       "                         random_state=1771840848),\n",
       "  DecisionTreeClassifier(max_features='auto', min_samples_split=100,\n",
       "                         random_state=78547565),\n",
       "  DecisionTreeClassifier(max_features='auto', min_samples_split=100,\n",
       "                         random_state=146764659),\n",
       "  DecisionTreeClassifier(max_features='auto', min_samples_split=100,\n",
       "                         random_state=1074361641),\n",
       "  DecisionTreeClassifier(max_features='auto', min_samples_split=100,\n",
       "                         random_state=532704722),\n",
       "  DecisionTreeClassifier(max_features='auto', min_samples_split=100,\n",
       "                         random_state=2099642383),\n",
       "  DecisionTreeClassifier(max_features='auto', min_samples_split=100,\n",
       "                         random_state=689925184),\n",
       "  DecisionTreeClassifier(max_features='auto', min_samples_split=100,\n",
       "                         random_state=1065863364),\n",
       "  DecisionTreeClassifier(max_features='auto', min_samples_split=100,\n",
       "                         random_state=1282027545),\n",
       "  DecisionTreeClassifier(max_features='auto', min_samples_split=100,\n",
       "                         random_state=1204497775),\n",
       "  DecisionTreeClassifier(max_features='auto', min_samples_split=100,\n",
       "                         random_state=1916133090),\n",
       "  DecisionTreeClassifier(max_features='auto', min_samples_split=100,\n",
       "                         random_state=1242445271),\n",
       "  DecisionTreeClassifier(max_features='auto', min_samples_split=100,\n",
       "                         random_state=954017671),\n",
       "  DecisionTreeClassifier(max_features='auto', min_samples_split=100,\n",
       "                         random_state=443352346),\n",
       "  DecisionTreeClassifier(max_features='auto', min_samples_split=100,\n",
       "                         random_state=315096729),\n",
       "  DecisionTreeClassifier(max_features='auto', min_samples_split=100,\n",
       "                         random_state=1923688040),\n",
       "  DecisionTreeClassifier(max_features='auto', min_samples_split=100,\n",
       "                         random_state=2015364118),\n",
       "  DecisionTreeClassifier(max_features='auto', min_samples_split=100,\n",
       "                         random_state=1754904329),\n",
       "  DecisionTreeClassifier(max_features='auto', min_samples_split=100,\n",
       "                         random_state=413056707),\n",
       "  DecisionTreeClassifier(max_features='auto', min_samples_split=100,\n",
       "                         random_state=1261063143),\n",
       "  DecisionTreeClassifier(max_features='auto', min_samples_split=100,\n",
       "                         random_state=1732461694),\n",
       "  DecisionTreeClassifier(max_features='auto', min_samples_split=100,\n",
       "                         random_state=1235985687),\n",
       "  DecisionTreeClassifier(max_features='auto', min_samples_split=100,\n",
       "                         random_state=513207677),\n",
       "  DecisionTreeClassifier(max_features='auto', min_samples_split=100,\n",
       "                         random_state=558468452),\n",
       "  DecisionTreeClassifier(max_features='auto', min_samples_split=100,\n",
       "                         random_state=106512539)]}"
      ]
     },
     "execution_count": 82,
     "metadata": {},
     "output_type": "execute_result"
    }
   ],
   "source": [
    "model.__dict__"
   ]
  },
  {
   "cell_type": "code",
   "execution_count": 83,
   "id": "2562718c",
   "metadata": {
    "hidden": true
   },
   "outputs": [
    {
     "data": {
      "text/html": [
       "<div>\n",
       "<style scoped>\n",
       "    .dataframe tbody tr th:only-of-type {\n",
       "        vertical-align: middle;\n",
       "    }\n",
       "\n",
       "    .dataframe tbody tr th {\n",
       "        vertical-align: top;\n",
       "    }\n",
       "\n",
       "    .dataframe thead th {\n",
       "        text-align: right;\n",
       "    }\n",
       "</style>\n",
       "<table border=\"1\" class=\"dataframe\">\n",
       "  <thead>\n",
       "    <tr style=\"text-align: right;\">\n",
       "      <th></th>\n",
       "      <th>Close</th>\n",
       "      <th>Volume</th>\n",
       "      <th>Open</th>\n",
       "      <th>High</th>\n",
       "      <th>Low</th>\n",
       "    </tr>\n",
       "    <tr>\n",
       "      <th>Date</th>\n",
       "      <th></th>\n",
       "      <th></th>\n",
       "      <th></th>\n",
       "      <th></th>\n",
       "      <th></th>\n",
       "    </tr>\n",
       "  </thead>\n",
       "  <tbody>\n",
       "    <tr>\n",
       "      <th>1990-01-02</th>\n",
       "      <td>359.690002</td>\n",
       "      <td>162070000</td>\n",
       "      <td>353.399994</td>\n",
       "      <td>359.690002</td>\n",
       "      <td>351.980011</td>\n",
       "    </tr>\n",
       "    <tr>\n",
       "      <th>1990-01-03</th>\n",
       "      <td>358.760010</td>\n",
       "      <td>192330000</td>\n",
       "      <td>359.690002</td>\n",
       "      <td>360.589996</td>\n",
       "      <td>357.890015</td>\n",
       "    </tr>\n",
       "    <tr>\n",
       "      <th>1990-01-04</th>\n",
       "      <td>355.670013</td>\n",
       "      <td>177000000</td>\n",
       "      <td>358.760010</td>\n",
       "      <td>358.760010</td>\n",
       "      <td>352.890015</td>\n",
       "    </tr>\n",
       "    <tr>\n",
       "      <th>1990-01-05</th>\n",
       "      <td>352.200012</td>\n",
       "      <td>158530000</td>\n",
       "      <td>355.670013</td>\n",
       "      <td>355.670013</td>\n",
       "      <td>351.350006</td>\n",
       "    </tr>\n",
       "    <tr>\n",
       "      <th>1990-01-08</th>\n",
       "      <td>353.790009</td>\n",
       "      <td>140110000</td>\n",
       "      <td>352.200012</td>\n",
       "      <td>354.239990</td>\n",
       "      <td>350.540009</td>\n",
       "    </tr>\n",
       "  </tbody>\n",
       "</table>\n",
       "</div>"
      ],
      "text/plain": [
       "                 Close     Volume        Open        High         Low\n",
       "Date                                                                 \n",
       "1990-01-02  359.690002  162070000  353.399994  359.690002  351.980011\n",
       "1990-01-03  358.760010  192330000  359.690002  360.589996  357.890015\n",
       "1990-01-04  355.670013  177000000  358.760010  358.760010  352.890015\n",
       "1990-01-05  352.200012  158530000  355.670013  355.670013  351.350006\n",
       "1990-01-08  353.790009  140110000  352.200012  354.239990  350.540009"
      ]
     },
     "execution_count": 83,
     "metadata": {},
     "output_type": "execute_result"
    }
   ],
   "source": [
    "train[predictors].head()"
   ]
  },
  {
   "cell_type": "code",
   "execution_count": 84,
   "id": "c2a9ca2f",
   "metadata": {
    "hidden": true
   },
   "outputs": [
    {
     "data": {
      "text/plain": [
       "(2, 5)"
      ]
     },
     "execution_count": 84,
     "metadata": {},
     "output_type": "execute_result"
    }
   ],
   "source": [
    "train.iloc[0:2,:5].to_numpy().shape"
   ]
  },
  {
   "cell_type": "markdown",
   "id": "0474f0a8",
   "metadata": {
    "hidden": true
   },
   "source": [
    "## measure the accuracy of the baseline\n",
    "Measure the precision. Precision is: how many predicted positive were actual positive?\\\n",
    "Precision = TP / (TP + FP)\\\n",
    "Precision tends to minimize FP"
   ]
  },
  {
   "cell_type": "code",
   "execution_count": 102,
   "id": "73e335c0",
   "metadata": {
    "hidden": true
   },
   "outputs": [],
   "source": [
    "from sklearn.metrics import precision_score"
   ]
  },
  {
   "cell_type": "code",
   "execution_count": 127,
   "id": "8b1dcc97",
   "metadata": {
    "hidden": true
   },
   "outputs": [
    {
     "data": {
      "text/plain": [
       "((100,), (100,))"
      ]
     },
     "execution_count": 127,
     "metadata": {},
     "output_type": "execute_result"
    }
   ],
   "source": [
    "y_true = test.Target\n",
    "y_pred = pd.Series(model.predict(test[predictors]),index=test.index)\n",
    "y_true.shape, y_pred.shape"
   ]
  },
  {
   "cell_type": "code",
   "execution_count": 151,
   "id": "8b2b4139",
   "metadata": {
    "hidden": true
   },
   "outputs": [
    {
     "data": {
      "text/plain": [
       "0.44"
      ]
     },
     "execution_count": 151,
     "metadata": {},
     "output_type": "execute_result"
    }
   ],
   "source": [
    "round(precision_score(y_true, y_pred),2)"
   ]
  },
  {
   "cell_type": "markdown",
   "id": "3e8bc851",
   "metadata": {
    "hidden": true
   },
   "source": [
    "That is not a great score!\\\n",
    "Why is precision not so great? plot pred VS actual"
   ]
  },
  {
   "cell_type": "code",
   "execution_count": 133,
   "id": "067ec909",
   "metadata": {
    "hidden": true
   },
   "outputs": [],
   "source": [
    "combined = pd.concat([y_true, y_pred], axis= 1)"
   ]
  },
  {
   "cell_type": "code",
   "execution_count": 134,
   "id": "fdc98b61",
   "metadata": {
    "hidden": true
   },
   "outputs": [],
   "source": [
    "combined.columns = [\"Target\",\"pred\"]"
   ]
  },
  {
   "cell_type": "code",
   "execution_count": 152,
   "id": "028e6efb",
   "metadata": {
    "hidden": true
   },
   "outputs": [
    {
     "data": {
      "text/plain": [
       "<AxesSubplot:xlabel='Date'>"
      ]
     },
     "execution_count": 152,
     "metadata": {},
     "output_type": "execute_result"
    },
    {
     "data": {
      "image/png": "[encoded data removed]",
      "text/plain": [
       "<Figure size 432x288 with 1 Axes>"
      ]
     },
     "metadata": {
      "needs_background": "light"
     },
     "output_type": "display_data"
    }
   ],
   "source": [
    "combined.plot()"
   ]
  },
  {
   "cell_type": "code",
   "execution_count": 150,
   "id": "58221cda",
   "metadata": {
    "hidden": true
   },
   "outputs": [
    {
     "data": {
      "text/plain": [
       "Target  pred\n",
       "0       1       47\n",
       "1       1       37\n",
       "0       0        8\n",
       "1       0        8\n",
       "dtype: int64"
      ]
     },
     "execution_count": 150,
     "metadata": {},
     "output_type": "execute_result"
    }
   ],
   "source": [
    "combined.value_counts()"
   ]
  },
  {
   "cell_type": "markdown",
   "id": "7f8566ae",
   "metadata": {
    "hidden": true
   },
   "source": [
    "The prediction got:\n",
    "\n",
    "47 + 37 = **84 P**\\\n",
    "8 + 8 = **16 N**\n",
    "\n",
    "The actual was: \n",
    "\n",
    "37 + 8 = **45 P**\\\n",
    "47 + 8 = **55 N**\n",
    "\n",
    "Precision = TP/(TP + FP) = 37/(37+47)=0.44\\\n",
    "Poor Prediction, way to many False Positive\n"
   ]
  },
  {
   "cell_type": "markdown",
   "id": "c023a729",
   "metadata": {
    "heading_collapsed": true
   },
   "source": [
    "# Backtesting"
   ]
  },
  {
   "cell_type": "markdown",
   "id": "be6b1e4b",
   "metadata": {
    "hidden": true
   },
   "source": [
    "Next test: build a more robust way to test. Currently we can only test on the last 100 occurrences. do backtesting to test accross multiples years. \\\n",
    "First thing: build a function to wrap up everything we just did"
   ]
  },
  {
   "cell_type": "markdown",
   "id": "a3f1157d",
   "metadata": {
    "hidden": true
   },
   "source": [
    "## instantiate a function that does everything we have done above"
   ]
  },
  {
   "cell_type": "code",
   "execution_count": 180,
   "id": "3310980d",
   "metadata": {
    "hidden": true
   },
   "outputs": [],
   "source": [
    "def predict(train, test, predictors, model):\n",
    "    model.fit(train[predictors], train.Target)\n",
    "    y_pred = pd.Series(model.predict(test[predictors]),index=test.index, name = \"Predictions\")\n",
    "    combined = pd.concat([test.Target, y_pred], axis= 1)\n",
    "    return combined#, \"precision is \" +str(round(precision_score(test.Target,model.predict(test[predictors])),2))\n",
    "    "
   ]
  },
  {
   "cell_type": "code",
   "execution_count": 181,
   "id": "8e691ec5",
   "metadata": {
    "hidden": true
   },
   "outputs": [
    {
     "data": {
      "text/html": [
       "<div>\n",
       "<style scoped>\n",
       "    .dataframe tbody tr th:only-of-type {\n",
       "        vertical-align: middle;\n",
       "    }\n",
       "\n",
       "    .dataframe tbody tr th {\n",
       "        vertical-align: top;\n",
       "    }\n",
       "\n",
       "    .dataframe thead th {\n",
       "        text-align: right;\n",
       "    }\n",
       "</style>\n",
       "<table border=\"1\" class=\"dataframe\">\n",
       "  <thead>\n",
       "    <tr style=\"text-align: right;\">\n",
       "      <th></th>\n",
       "      <th>Target</th>\n",
       "      <th>Predictions</th>\n",
       "    </tr>\n",
       "    <tr>\n",
       "      <th>Date</th>\n",
       "      <th></th>\n",
       "      <th></th>\n",
       "    </tr>\n",
       "  </thead>\n",
       "  <tbody>\n",
       "    <tr>\n",
       "      <th>2022-02-15</th>\n",
       "      <td>1</td>\n",
       "      <td>1</td>\n",
       "    </tr>\n",
       "    <tr>\n",
       "      <th>2022-02-16</th>\n",
       "      <td>0</td>\n",
       "      <td>1</td>\n",
       "    </tr>\n",
       "    <tr>\n",
       "      <th>2022-02-17</th>\n",
       "      <td>0</td>\n",
       "      <td>1</td>\n",
       "    </tr>\n",
       "    <tr>\n",
       "      <th>2022-02-18</th>\n",
       "      <td>0</td>\n",
       "      <td>1</td>\n",
       "    </tr>\n",
       "    <tr>\n",
       "      <th>2022-02-22</th>\n",
       "      <td>0</td>\n",
       "      <td>1</td>\n",
       "    </tr>\n",
       "    <tr>\n",
       "      <th>...</th>\n",
       "      <td>...</td>\n",
       "      <td>...</td>\n",
       "    </tr>\n",
       "    <tr>\n",
       "      <th>2022-07-05</th>\n",
       "      <td>1</td>\n",
       "      <td>1</td>\n",
       "    </tr>\n",
       "    <tr>\n",
       "      <th>2022-07-06</th>\n",
       "      <td>1</td>\n",
       "      <td>1</td>\n",
       "    </tr>\n",
       "    <tr>\n",
       "      <th>2022-07-07</th>\n",
       "      <td>0</td>\n",
       "      <td>1</td>\n",
       "    </tr>\n",
       "    <tr>\n",
       "      <th>2022-07-08</th>\n",
       "      <td>0</td>\n",
       "      <td>1</td>\n",
       "    </tr>\n",
       "    <tr>\n",
       "      <th>2022-07-11</th>\n",
       "      <td>0</td>\n",
       "      <td>1</td>\n",
       "    </tr>\n",
       "  </tbody>\n",
       "</table>\n",
       "<p>100 rows × 2 columns</p>\n",
       "</div>"
      ],
      "text/plain": [
       "            Target  Predictions\n",
       "Date                           \n",
       "2022-02-15       1            1\n",
       "2022-02-16       0            1\n",
       "2022-02-17       0            1\n",
       "2022-02-18       0            1\n",
       "2022-02-22       0            1\n",
       "...            ...          ...\n",
       "2022-07-05       1            1\n",
       "2022-07-06       1            1\n",
       "2022-07-07       0            1\n",
       "2022-07-08       0            1\n",
       "2022-07-11       0            1\n",
       "\n",
       "[100 rows x 2 columns]"
      ]
     },
     "execution_count": 181,
     "metadata": {},
     "output_type": "execute_result"
    }
   ],
   "source": [
    "predict(train, test, predictors, model)"
   ]
  },
  {
   "cell_type": "markdown",
   "id": "9ed3a460",
   "metadata": {
    "hidden": true
   },
   "source": [
    "## instantiate a function that will do predicitons for all years"
   ]
  },
  {
   "cell_type": "markdown",
   "id": "484af96d",
   "metadata": {
    "hidden": true
   },
   "source": [
    "**start value**: train your first model with 2500 data ie about 10 years (each year is about 250 days)\\\n",
    "**step**: train a model for about a year (250 data)\n",
    "\n",
    "We will start training a first model for 10 years (2500 data), and predict values for the 11th years (250 data).\\\n",
    "2nd model: take following 11 years of data and predict the 12th year.\\\n",
    "3rd model: take following 12 years of data, and predict the 13th year..."
   ]
  },
  {
   "cell_type": "code",
   "execution_count": 185,
   "id": "08e527bb",
   "metadata": {
    "hidden": true
   },
   "outputs": [],
   "source": [
    "def backtest(data, model, predictors, start = 2500, step = 250):\n",
    "    all_predictions=[] # list of df where each df is the prediciton for a single year\n",
    "    \n",
    "    for i in range(start, data.shape[0], step):\n",
    "        train = data.iloc[0:i].copy()\n",
    "        test = data.iloc[i:i+step].copy()\n",
    "        prediction = predict(train, test, predictors, model)\n",
    "        all_predictions.append(prediction)\n",
    "    return pd.concat(all_predictions)"
   ]
  },
  {
   "cell_type": "code",
   "execution_count": 186,
   "id": "5b0e17b0",
   "metadata": {
    "hidden": true,
    "scrolled": true
   },
   "outputs": [],
   "source": [
    "predictions = backtest(sp500_df, model, predictors)"
   ]
  },
  {
   "cell_type": "code",
   "execution_count": 188,
   "id": "01fe0450",
   "metadata": {
    "hidden": true
   },
   "outputs": [
    {
     "data": {
      "text/html": [
       "<div>\n",
       "<style scoped>\n",
       "    .dataframe tbody tr th:only-of-type {\n",
       "        vertical-align: middle;\n",
       "    }\n",
       "\n",
       "    .dataframe tbody tr th {\n",
       "        vertical-align: top;\n",
       "    }\n",
       "\n",
       "    .dataframe thead th {\n",
       "        text-align: right;\n",
       "    }\n",
       "</style>\n",
       "<table border=\"1\" class=\"dataframe\">\n",
       "  <thead>\n",
       "    <tr style=\"text-align: right;\">\n",
       "      <th></th>\n",
       "      <th>Target</th>\n",
       "      <th>Predictions</th>\n",
       "    </tr>\n",
       "    <tr>\n",
       "      <th>Date</th>\n",
       "      <th></th>\n",
       "      <th></th>\n",
       "    </tr>\n",
       "  </thead>\n",
       "  <tbody>\n",
       "    <tr>\n",
       "      <th>1999-11-22</th>\n",
       "      <td>0</td>\n",
       "      <td>0</td>\n",
       "    </tr>\n",
       "    <tr>\n",
       "      <th>1999-11-23</th>\n",
       "      <td>1</td>\n",
       "      <td>0</td>\n",
       "    </tr>\n",
       "    <tr>\n",
       "      <th>1999-11-24</th>\n",
       "      <td>0</td>\n",
       "      <td>0</td>\n",
       "    </tr>\n",
       "    <tr>\n",
       "      <th>1999-11-26</th>\n",
       "      <td>0</td>\n",
       "      <td>0</td>\n",
       "    </tr>\n",
       "    <tr>\n",
       "      <th>1999-11-29</th>\n",
       "      <td>0</td>\n",
       "      <td>0</td>\n",
       "    </tr>\n",
       "    <tr>\n",
       "      <th>...</th>\n",
       "      <td>...</td>\n",
       "      <td>...</td>\n",
       "    </tr>\n",
       "    <tr>\n",
       "      <th>2022-07-05</th>\n",
       "      <td>1</td>\n",
       "      <td>1</td>\n",
       "    </tr>\n",
       "    <tr>\n",
       "      <th>2022-07-06</th>\n",
       "      <td>1</td>\n",
       "      <td>1</td>\n",
       "    </tr>\n",
       "    <tr>\n",
       "      <th>2022-07-07</th>\n",
       "      <td>0</td>\n",
       "      <td>0</td>\n",
       "    </tr>\n",
       "    <tr>\n",
       "      <th>2022-07-08</th>\n",
       "      <td>0</td>\n",
       "      <td>1</td>\n",
       "    </tr>\n",
       "    <tr>\n",
       "      <th>2022-07-11</th>\n",
       "      <td>0</td>\n",
       "      <td>1</td>\n",
       "    </tr>\n",
       "  </tbody>\n",
       "</table>\n",
       "<p>5694 rows × 2 columns</p>\n",
       "</div>"
      ],
      "text/plain": [
       "            Target  Predictions\n",
       "Date                           \n",
       "1999-11-22       0            0\n",
       "1999-11-23       1            0\n",
       "1999-11-24       0            0\n",
       "1999-11-26       0            0\n",
       "1999-11-29       0            0\n",
       "...            ...          ...\n",
       "2022-07-05       1            1\n",
       "2022-07-06       1            1\n",
       "2022-07-07       0            0\n",
       "2022-07-08       0            1\n",
       "2022-07-11       0            1\n",
       "\n",
       "[5694 rows x 2 columns]"
      ]
     },
     "execution_count": 188,
     "metadata": {},
     "output_type": "execute_result"
    }
   ],
   "source": [
    "predictions"
   ]
  },
  {
   "cell_type": "code",
   "execution_count": 190,
   "id": "d6c94457",
   "metadata": {
    "hidden": true
   },
   "outputs": [
    {
     "data": {
      "text/plain": [
       "0    3329\n",
       "1    2365\n",
       "Name: Predictions, dtype: int64"
      ]
     },
     "execution_count": 190,
     "metadata": {},
     "output_type": "execute_result"
    }
   ],
   "source": [
    "predictions.Predictions.value_counts()"
   ]
  },
  {
   "cell_type": "code",
   "execution_count": 191,
   "id": "5393de3a",
   "metadata": {
    "hidden": true,
    "scrolled": true
   },
   "outputs": [
    {
     "data": {
      "text/plain": [
       "0.5353065539112051"
      ]
     },
     "execution_count": 191,
     "metadata": {},
     "output_type": "execute_result"
    }
   ],
   "source": [
    "precision_score(predictions.Target, predictions.Predictions)"
   ]
  },
  {
   "cell_type": "markdown",
   "id": "714673dc",
   "metadata": {
    "hidden": true
   },
   "source": [
    "When we predicted that the stock would go up, it actually did in 53% of the times.\\\n",
    "Compare it to a **baseline model**: say it goes up every day.\\\n",
    "The score for a baseline model where we say it goes up every day would be: 0.5365, actually a bit better than "
   ]
  },
  {
   "cell_type": "code",
   "execution_count": 195,
   "id": "3bd700b3",
   "metadata": {
    "hidden": true
   },
   "outputs": [
    {
     "data": {
      "text/plain": [
       "1    3055\n",
       "0    2639\n",
       "Name: Target, dtype: int64"
      ]
     },
     "execution_count": 195,
     "metadata": {},
     "output_type": "execute_result"
    }
   ],
   "source": [
    "predictions.Target.value_counts(normalize=False)"
   ]
  },
  {
   "cell_type": "markdown",
   "id": "9b4ae483",
   "metadata": {
    "hidden": true
   },
   "source": [
    "Precision score for such a baseline model would be:\\\n",
    "TP/(TP+FP) = 3055/(3055+2639) = 0.5356"
   ]
  },
  {
   "cell_type": "code",
   "execution_count": 196,
   "id": "dcefbfd8",
   "metadata": {
    "hidden": true
   },
   "outputs": [
    {
     "data": {
      "text/plain": [
       "1    0.53653\n",
       "0    0.46347\n",
       "Name: Target, dtype: float64"
      ]
     },
     "execution_count": 196,
     "metadata": {},
     "output_type": "execute_result"
    }
   ],
   "source": [
    "predictions.Target.value_counts(normalize=True)"
   ]
  },
  {
   "cell_type": "markdown",
   "id": "b0f60ce6",
   "metadata": {
    "heading_collapsed": true
   },
   "source": [
    "# Adding additional predictors to our model"
   ]
  },
  {
   "cell_type": "markdown",
   "id": "24538440",
   "metadata": {
    "hidden": true
   },
   "source": [
    "Create a variety of rolling averages. Compute the mean price in these horizons: over 2 days, 50 days..."
   ]
  },
  {
   "cell_type": "code",
   "execution_count": 212,
   "id": "5e2ecf93",
   "metadata": {
    "collapsed": true,
    "hidden": true
   },
   "outputs": [
    {
     "data": {
      "text/html": [
       "<div>\n",
       "<style scoped>\n",
       "    .dataframe tbody tr th:only-of-type {\n",
       "        vertical-align: middle;\n",
       "    }\n",
       "\n",
       "    .dataframe tbody tr th {\n",
       "        vertical-align: top;\n",
       "    }\n",
       "\n",
       "    .dataframe thead th {\n",
       "        text-align: right;\n",
       "    }\n",
       "</style>\n",
       "<table border=\"1\" class=\"dataframe\">\n",
       "  <thead>\n",
       "    <tr style=\"text-align: right;\">\n",
       "      <th></th>\n",
       "      <th>Open</th>\n",
       "      <th>High</th>\n",
       "      <th>Low</th>\n",
       "      <th>Close</th>\n",
       "      <th>Volume</th>\n",
       "      <th>Tomorrow</th>\n",
       "      <th>Target</th>\n",
       "    </tr>\n",
       "    <tr>\n",
       "      <th>Date</th>\n",
       "      <th></th>\n",
       "      <th></th>\n",
       "      <th></th>\n",
       "      <th></th>\n",
       "      <th></th>\n",
       "      <th></th>\n",
       "      <th></th>\n",
       "    </tr>\n",
       "  </thead>\n",
       "  <tbody>\n",
       "    <tr>\n",
       "      <th>1990-01-02</th>\n",
       "      <td>NaN</td>\n",
       "      <td>NaN</td>\n",
       "      <td>NaN</td>\n",
       "      <td>NaN</td>\n",
       "      <td>NaN</td>\n",
       "      <td>NaN</td>\n",
       "      <td>NaN</td>\n",
       "    </tr>\n",
       "    <tr>\n",
       "      <th>1990-01-03</th>\n",
       "      <td>356.544998</td>\n",
       "      <td>360.139999</td>\n",
       "      <td>354.935013</td>\n",
       "      <td>359.225006</td>\n",
       "      <td>1.772000e+08</td>\n",
       "      <td>357.215012</td>\n",
       "      <td>0.0</td>\n",
       "    </tr>\n",
       "    <tr>\n",
       "      <th>1990-01-04</th>\n",
       "      <td>359.225006</td>\n",
       "      <td>359.675003</td>\n",
       "      <td>355.390015</td>\n",
       "      <td>357.215012</td>\n",
       "      <td>1.846650e+08</td>\n",
       "      <td>353.935013</td>\n",
       "      <td>0.0</td>\n",
       "    </tr>\n",
       "    <tr>\n",
       "      <th>1990-01-05</th>\n",
       "      <td>357.215012</td>\n",
       "      <td>357.215012</td>\n",
       "      <td>352.120010</td>\n",
       "      <td>353.935013</td>\n",
       "      <td>1.677650e+08</td>\n",
       "      <td>352.995010</td>\n",
       "      <td>0.5</td>\n",
       "    </tr>\n",
       "    <tr>\n",
       "      <th>1990-01-08</th>\n",
       "      <td>353.935013</td>\n",
       "      <td>354.955002</td>\n",
       "      <td>350.945007</td>\n",
       "      <td>352.995010</td>\n",
       "      <td>1.493200e+08</td>\n",
       "      <td>351.705002</td>\n",
       "      <td>0.5</td>\n",
       "    </tr>\n",
       "    <tr>\n",
       "      <th>...</th>\n",
       "      <td>...</td>\n",
       "      <td>...</td>\n",
       "      <td>...</td>\n",
       "      <td>...</td>\n",
       "      <td>...</td>\n",
       "      <td>...</td>\n",
       "      <td>...</td>\n",
       "    </tr>\n",
       "    <tr>\n",
       "      <th>2022-07-05</th>\n",
       "      <td>3786.805054</td>\n",
       "      <td>3831.005005</td>\n",
       "      <td>3747.080078</td>\n",
       "      <td>3828.359985</td>\n",
       "      <td>3.848070e+09</td>\n",
       "      <td>3838.234985</td>\n",
       "      <td>1.0</td>\n",
       "    </tr>\n",
       "    <tr>\n",
       "      <th>2022-07-06</th>\n",
       "      <td>3812.295044</td>\n",
       "      <td>3851.549927</td>\n",
       "      <td>3775.715088</td>\n",
       "      <td>3838.234985</td>\n",
       "      <td>4.020510e+09</td>\n",
       "      <td>3873.850098</td>\n",
       "      <td>1.0</td>\n",
       "    </tr>\n",
       "    <tr>\n",
       "      <th>2022-07-07</th>\n",
       "      <td>3845.415039</td>\n",
       "      <td>3890.769897</td>\n",
       "      <td>3834.110107</td>\n",
       "      <td>3873.850098</td>\n",
       "      <td>3.475415e+09</td>\n",
       "      <td>3901.000000</td>\n",
       "      <td>0.5</td>\n",
       "    </tr>\n",
       "    <tr>\n",
       "      <th>2022-07-08</th>\n",
       "      <td>3873.555054</td>\n",
       "      <td>3914.564941</td>\n",
       "      <td>3864.095093</td>\n",
       "      <td>3901.000000</td>\n",
       "      <td>3.091165e+09</td>\n",
       "      <td>3876.904907</td>\n",
       "      <td>0.0</td>\n",
       "    </tr>\n",
       "    <tr>\n",
       "      <th>2022-07-11</th>\n",
       "      <td>3884.599976</td>\n",
       "      <td>3899.719971</td>\n",
       "      <td>3858.280029</td>\n",
       "      <td>3876.904907</td>\n",
       "      <td>2.934225e+09</td>\n",
       "      <td>NaN</td>\n",
       "      <td>0.0</td>\n",
       "    </tr>\n",
       "  </tbody>\n",
       "</table>\n",
       "<p>8194 rows × 7 columns</p>\n",
       "</div>"
      ],
      "text/plain": [
       "                   Open         High          Low        Close        Volume  \\\n",
       "Date                                                                           \n",
       "1990-01-02          NaN          NaN          NaN          NaN           NaN   \n",
       "1990-01-03   356.544998   360.139999   354.935013   359.225006  1.772000e+08   \n",
       "1990-01-04   359.225006   359.675003   355.390015   357.215012  1.846650e+08   \n",
       "1990-01-05   357.215012   357.215012   352.120010   353.935013  1.677650e+08   \n",
       "1990-01-08   353.935013   354.955002   350.945007   352.995010  1.493200e+08   \n",
       "...                 ...          ...          ...          ...           ...   \n",
       "2022-07-05  3786.805054  3831.005005  3747.080078  3828.359985  3.848070e+09   \n",
       "2022-07-06  3812.295044  3851.549927  3775.715088  3838.234985  4.020510e+09   \n",
       "2022-07-07  3845.415039  3890.769897  3834.110107  3873.850098  3.475415e+09   \n",
       "2022-07-08  3873.555054  3914.564941  3864.095093  3901.000000  3.091165e+09   \n",
       "2022-07-11  3884.599976  3899.719971  3858.280029  3876.904907  2.934225e+09   \n",
       "\n",
       "               Tomorrow  Target  \n",
       "Date                             \n",
       "1990-01-02          NaN     NaN  \n",
       "1990-01-03   357.215012     0.0  \n",
       "1990-01-04   353.935013     0.0  \n",
       "1990-01-05   352.995010     0.5  \n",
       "1990-01-08   351.705002     0.5  \n",
       "...                 ...     ...  \n",
       "2022-07-05  3838.234985     1.0  \n",
       "2022-07-06  3873.850098     1.0  \n",
       "2022-07-07  3901.000000     0.5  \n",
       "2022-07-08  3876.904907     0.0  \n",
       "2022-07-11          NaN     0.0  \n",
       "\n",
       "[8194 rows x 7 columns]"
      ]
     },
     "execution_count": 212,
     "metadata": {},
     "output_type": "execute_result"
    }
   ],
   "source": [
    "sp500_df.rolling(2).mean() # define the rolling window size and apply all sort off operation: mean, sum..."
   ]
  },
  {
   "cell_type": "code",
   "execution_count": 265,
   "id": "81398926",
   "metadata": {
    "hidden": true
   },
   "outputs": [],
   "source": [
    "horizons =[2,50,60,250,1000]\n",
    "new_predictors = []\n",
    "\n",
    "for horizon in horizons:\n",
    "    rolling_avg = sp500_df.rolling(horizon).mean()    \n",
    "    ratio_column = f\"Close_ratio_{horizon}\"\n",
    "    sp500_df[ratio_column] = sp500_df.Close / rolling_avg.Close\n",
    "    \n",
    "    trend_column = f\"trend_{horizon}\"\n",
    "    sp500_df[trend_column] = sp500_df.shift(1).rolling(horizon).sum().Target\n",
    "    #the .shift(1) allows to discard todays target in the predictor, which will avoid leakage\n",
    "    \n",
    "    new_predictors+=[ratio_column, trend_column]"
   ]
  },
  {
   "cell_type": "code",
   "execution_count": 233,
   "id": "f9004e78",
   "metadata": {
    "collapsed": true,
    "hidden": true
   },
   "outputs": [
    {
     "data": {
      "text/html": [
       "<div>\n",
       "<style scoped>\n",
       "    .dataframe tbody tr th:only-of-type {\n",
       "        vertical-align: middle;\n",
       "    }\n",
       "\n",
       "    .dataframe tbody tr th {\n",
       "        vertical-align: top;\n",
       "    }\n",
       "\n",
       "    .dataframe thead th {\n",
       "        text-align: right;\n",
       "    }\n",
       "</style>\n",
       "<table border=\"1\" class=\"dataframe\">\n",
       "  <thead>\n",
       "    <tr style=\"text-align: right;\">\n",
       "      <th></th>\n",
       "      <th>Open</th>\n",
       "      <th>High</th>\n",
       "      <th>Low</th>\n",
       "      <th>Close</th>\n",
       "      <th>Volume</th>\n",
       "      <th>Tomorrow</th>\n",
       "      <th>Target</th>\n",
       "      <th>Close_ratio_2</th>\n",
       "      <th>Close_ratio_50</th>\n",
       "      <th>Close_ratio_60</th>\n",
       "      <th>Close_ratio_250</th>\n",
       "      <th>Close_ratio_1000</th>\n",
       "      <th>trend_2</th>\n",
       "      <th>trend_50</th>\n",
       "      <th>trend_60</th>\n",
       "      <th>trend_250</th>\n",
       "      <th>trend_1000</th>\n",
       "    </tr>\n",
       "    <tr>\n",
       "      <th>Date</th>\n",
       "      <th></th>\n",
       "      <th></th>\n",
       "      <th></th>\n",
       "      <th></th>\n",
       "      <th></th>\n",
       "      <th></th>\n",
       "      <th></th>\n",
       "      <th></th>\n",
       "      <th></th>\n",
       "      <th></th>\n",
       "      <th></th>\n",
       "      <th></th>\n",
       "      <th></th>\n",
       "      <th></th>\n",
       "      <th></th>\n",
       "      <th></th>\n",
       "      <th></th>\n",
       "    </tr>\n",
       "  </thead>\n",
       "  <tbody>\n",
       "    <tr>\n",
       "      <th>1990-01-02</th>\n",
       "      <td>353.399994</td>\n",
       "      <td>359.690002</td>\n",
       "      <td>351.980011</td>\n",
       "      <td>359.690002</td>\n",
       "      <td>162070000</td>\n",
       "      <td>358.760010</td>\n",
       "      <td>0</td>\n",
       "      <td>NaN</td>\n",
       "      <td>NaN</td>\n",
       "      <td>NaN</td>\n",
       "      <td>NaN</td>\n",
       "      <td>NaN</td>\n",
       "      <td>NaN</td>\n",
       "      <td>NaN</td>\n",
       "      <td>NaN</td>\n",
       "      <td>NaN</td>\n",
       "      <td>NaN</td>\n",
       "    </tr>\n",
       "    <tr>\n",
       "      <th>1990-01-03</th>\n",
       "      <td>359.690002</td>\n",
       "      <td>360.589996</td>\n",
       "      <td>357.890015</td>\n",
       "      <td>358.760010</td>\n",
       "      <td>192330000</td>\n",
       "      <td>355.670013</td>\n",
       "      <td>0</td>\n",
       "      <td>0.998706</td>\n",
       "      <td>NaN</td>\n",
       "      <td>NaN</td>\n",
       "      <td>NaN</td>\n",
       "      <td>NaN</td>\n",
       "      <td>NaN</td>\n",
       "      <td>NaN</td>\n",
       "      <td>NaN</td>\n",
       "      <td>NaN</td>\n",
       "      <td>NaN</td>\n",
       "    </tr>\n",
       "    <tr>\n",
       "      <th>1990-01-04</th>\n",
       "      <td>358.760010</td>\n",
       "      <td>358.760010</td>\n",
       "      <td>352.890015</td>\n",
       "      <td>355.670013</td>\n",
       "      <td>177000000</td>\n",
       "      <td>352.200012</td>\n",
       "      <td>0</td>\n",
       "      <td>0.995675</td>\n",
       "      <td>NaN</td>\n",
       "      <td>NaN</td>\n",
       "      <td>NaN</td>\n",
       "      <td>NaN</td>\n",
       "      <td>0.0</td>\n",
       "      <td>NaN</td>\n",
       "      <td>NaN</td>\n",
       "      <td>NaN</td>\n",
       "      <td>NaN</td>\n",
       "    </tr>\n",
       "    <tr>\n",
       "      <th>1990-01-05</th>\n",
       "      <td>355.670013</td>\n",
       "      <td>355.670013</td>\n",
       "      <td>351.350006</td>\n",
       "      <td>352.200012</td>\n",
       "      <td>158530000</td>\n",
       "      <td>353.790009</td>\n",
       "      <td>1</td>\n",
       "      <td>0.995098</td>\n",
       "      <td>NaN</td>\n",
       "      <td>NaN</td>\n",
       "      <td>NaN</td>\n",
       "      <td>NaN</td>\n",
       "      <td>0.0</td>\n",
       "      <td>NaN</td>\n",
       "      <td>NaN</td>\n",
       "      <td>NaN</td>\n",
       "      <td>NaN</td>\n",
       "    </tr>\n",
       "    <tr>\n",
       "      <th>1990-01-08</th>\n",
       "      <td>352.200012</td>\n",
       "      <td>354.239990</td>\n",
       "      <td>350.540009</td>\n",
       "      <td>353.790009</td>\n",
       "      <td>140110000</td>\n",
       "      <td>349.619995</td>\n",
       "      <td>0</td>\n",
       "      <td>1.002252</td>\n",
       "      <td>NaN</td>\n",
       "      <td>NaN</td>\n",
       "      <td>NaN</td>\n",
       "      <td>NaN</td>\n",
       "      <td>1.0</td>\n",
       "      <td>NaN</td>\n",
       "      <td>NaN</td>\n",
       "      <td>NaN</td>\n",
       "      <td>NaN</td>\n",
       "    </tr>\n",
       "    <tr>\n",
       "      <th>...</th>\n",
       "      <td>...</td>\n",
       "      <td>...</td>\n",
       "      <td>...</td>\n",
       "      <td>...</td>\n",
       "      <td>...</td>\n",
       "      <td>...</td>\n",
       "      <td>...</td>\n",
       "      <td>...</td>\n",
       "      <td>...</td>\n",
       "      <td>...</td>\n",
       "      <td>...</td>\n",
       "      <td>...</td>\n",
       "      <td>...</td>\n",
       "      <td>...</td>\n",
       "      <td>...</td>\n",
       "      <td>...</td>\n",
       "      <td>...</td>\n",
       "    </tr>\n",
       "    <tr>\n",
       "      <th>2022-07-05</th>\n",
       "      <td>3792.610107</td>\n",
       "      <td>3832.189941</td>\n",
       "      <td>3742.060059</td>\n",
       "      <td>3831.389893</td>\n",
       "      <td>4427900000</td>\n",
       "      <td>3845.080078</td>\n",
       "      <td>1</td>\n",
       "      <td>1.000791</td>\n",
       "      <td>0.959149</td>\n",
       "      <td>0.941862</td>\n",
       "      <td>0.871476</td>\n",
       "      <td>1.098193</td>\n",
       "      <td>2.0</td>\n",
       "      <td>24.0</td>\n",
       "      <td>27.0</td>\n",
       "      <td>127.0</td>\n",
       "      <td>548.0</td>\n",
       "    </tr>\n",
       "    <tr>\n",
       "      <th>2022-07-06</th>\n",
       "      <td>3831.979980</td>\n",
       "      <td>3870.909912</td>\n",
       "      <td>3809.370117</td>\n",
       "      <td>3845.080078</td>\n",
       "      <td>3613120000</td>\n",
       "      <td>3902.620117</td>\n",
       "      <td>1</td>\n",
       "      <td>1.001783</td>\n",
       "      <td>0.964637</td>\n",
       "      <td>0.947771</td>\n",
       "      <td>0.874968</td>\n",
       "      <td>1.101786</td>\n",
       "      <td>2.0</td>\n",
       "      <td>25.0</td>\n",
       "      <td>27.0</td>\n",
       "      <td>128.0</td>\n",
       "      <td>549.0</td>\n",
       "    </tr>\n",
       "    <tr>\n",
       "      <th>2022-07-07</th>\n",
       "      <td>3858.850098</td>\n",
       "      <td>3910.629883</td>\n",
       "      <td>3858.850098</td>\n",
       "      <td>3902.620117</td>\n",
       "      <td>3337710000</td>\n",
       "      <td>3899.379883</td>\n",
       "      <td>0</td>\n",
       "      <td>1.007427</td>\n",
       "      <td>0.981009</td>\n",
       "      <td>0.964274</td>\n",
       "      <td>0.888440</td>\n",
       "      <td>1.117924</td>\n",
       "      <td>2.0</td>\n",
       "      <td>25.0</td>\n",
       "      <td>28.0</td>\n",
       "      <td>128.0</td>\n",
       "      <td>549.0</td>\n",
       "    </tr>\n",
       "    <tr>\n",
       "      <th>2022-07-08</th>\n",
       "      <td>3888.260010</td>\n",
       "      <td>3918.500000</td>\n",
       "      <td>3869.340088</td>\n",
       "      <td>3899.379883</td>\n",
       "      <td>2844620000</td>\n",
       "      <td>3854.429932</td>\n",
       "      <td>0</td>\n",
       "      <td>0.999585</td>\n",
       "      <td>0.981556</td>\n",
       "      <td>0.965514</td>\n",
       "      <td>0.888094</td>\n",
       "      <td>1.116649</td>\n",
       "      <td>1.0</td>\n",
       "      <td>25.0</td>\n",
       "      <td>28.0</td>\n",
       "      <td>127.0</td>\n",
       "      <td>548.0</td>\n",
       "    </tr>\n",
       "    <tr>\n",
       "      <th>2022-07-11</th>\n",
       "      <td>3880.939941</td>\n",
       "      <td>3880.939941</td>\n",
       "      <td>3847.219971</td>\n",
       "      <td>3854.429932</td>\n",
       "      <td>3023830000</td>\n",
       "      <td>NaN</td>\n",
       "      <td>0</td>\n",
       "      <td>0.994203</td>\n",
       "      <td>0.971853</td>\n",
       "      <td>0.956528</td>\n",
       "      <td>0.878269</td>\n",
       "      <td>1.103445</td>\n",
       "      <td>0.0</td>\n",
       "      <td>24.0</td>\n",
       "      <td>28.0</td>\n",
       "      <td>127.0</td>\n",
       "      <td>548.0</td>\n",
       "    </tr>\n",
       "  </tbody>\n",
       "</table>\n",
       "<p>8194 rows × 17 columns</p>\n",
       "</div>"
      ],
      "text/plain": [
       "                   Open         High          Low        Close      Volume  \\\n",
       "Date                                                                         \n",
       "1990-01-02   353.399994   359.690002   351.980011   359.690002   162070000   \n",
       "1990-01-03   359.690002   360.589996   357.890015   358.760010   192330000   \n",
       "1990-01-04   358.760010   358.760010   352.890015   355.670013   177000000   \n",
       "1990-01-05   355.670013   355.670013   351.350006   352.200012   158530000   \n",
       "1990-01-08   352.200012   354.239990   350.540009   353.790009   140110000   \n",
       "...                 ...          ...          ...          ...         ...   \n",
       "2022-07-05  3792.610107  3832.189941  3742.060059  3831.389893  4427900000   \n",
       "2022-07-06  3831.979980  3870.909912  3809.370117  3845.080078  3613120000   \n",
       "2022-07-07  3858.850098  3910.629883  3858.850098  3902.620117  3337710000   \n",
       "2022-07-08  3888.260010  3918.500000  3869.340088  3899.379883  2844620000   \n",
       "2022-07-11  3880.939941  3880.939941  3847.219971  3854.429932  3023830000   \n",
       "\n",
       "               Tomorrow  Target  Close_ratio_2  Close_ratio_50  \\\n",
       "Date                                                             \n",
       "1990-01-02   358.760010       0            NaN             NaN   \n",
       "1990-01-03   355.670013       0       0.998706             NaN   \n",
       "1990-01-04   352.200012       0       0.995675             NaN   \n",
       "1990-01-05   353.790009       1       0.995098             NaN   \n",
       "1990-01-08   349.619995       0       1.002252             NaN   \n",
       "...                 ...     ...            ...             ...   \n",
       "2022-07-05  3845.080078       1       1.000791        0.959149   \n",
       "2022-07-06  3902.620117       1       1.001783        0.964637   \n",
       "2022-07-07  3899.379883       0       1.007427        0.981009   \n",
       "2022-07-08  3854.429932       0       0.999585        0.981556   \n",
       "2022-07-11          NaN       0       0.994203        0.971853   \n",
       "\n",
       "            Close_ratio_60  Close_ratio_250  Close_ratio_1000  trend_2  \\\n",
       "Date                                                                     \n",
       "1990-01-02             NaN              NaN               NaN      NaN   \n",
       "1990-01-03             NaN              NaN               NaN      NaN   \n",
       "1990-01-04             NaN              NaN               NaN      0.0   \n",
       "1990-01-05             NaN              NaN               NaN      0.0   \n",
       "1990-01-08             NaN              NaN               NaN      1.0   \n",
       "...                    ...              ...               ...      ...   \n",
       "2022-07-05        0.941862         0.871476          1.098193      2.0   \n",
       "2022-07-06        0.947771         0.874968          1.101786      2.0   \n",
       "2022-07-07        0.964274         0.888440          1.117924      2.0   \n",
       "2022-07-08        0.965514         0.888094          1.116649      1.0   \n",
       "2022-07-11        0.956528         0.878269          1.103445      0.0   \n",
       "\n",
       "            trend_50  trend_60  trend_250  trend_1000  \n",
       "Date                                                   \n",
       "1990-01-02       NaN       NaN        NaN         NaN  \n",
       "1990-01-03       NaN       NaN        NaN         NaN  \n",
       "1990-01-04       NaN       NaN        NaN         NaN  \n",
       "1990-01-05       NaN       NaN        NaN         NaN  \n",
       "1990-01-08       NaN       NaN        NaN         NaN  \n",
       "...              ...       ...        ...         ...  \n",
       "2022-07-05      24.0      27.0      127.0       548.0  \n",
       "2022-07-06      25.0      27.0      128.0       549.0  \n",
       "2022-07-07      25.0      28.0      128.0       549.0  \n",
       "2022-07-08      25.0      28.0      127.0       548.0  \n",
       "2022-07-11      24.0      28.0      127.0       548.0  \n",
       "\n",
       "[8194 rows x 17 columns]"
      ]
     },
     "execution_count": 233,
     "metadata": {},
     "output_type": "execute_result"
    }
   ],
   "source": [
    "sp500_df"
   ]
  },
  {
   "cell_type": "code",
   "execution_count": 266,
   "id": "d1e8b9ea",
   "metadata": {
    "hidden": true
   },
   "outputs": [
    {
     "data": {
      "text/plain": [
       "['Close_ratio_2',\n",
       " 'trend_2',\n",
       " 'Close_ratio_50',\n",
       " 'trend_50',\n",
       " 'Close_ratio_60',\n",
       " 'trend_60',\n",
       " 'Close_ratio_250',\n",
       " 'trend_250',\n",
       " 'Close_ratio_1000',\n",
       " 'trend_1000']"
      ]
     },
     "execution_count": 266,
     "metadata": {},
     "output_type": "execute_result"
    }
   ],
   "source": [
    "new_predictors"
   ]
  },
  {
   "cell_type": "markdown",
   "id": "46264f6e",
   "metadata": {
    "hidden": true
   },
   "source": [
    "Drop all rows with na()"
   ]
  },
  {
   "cell_type": "code",
   "execution_count": 269,
   "id": "7a7c7d33",
   "metadata": {
    "hidden": true
   },
   "outputs": [],
   "source": [
    "sp500_df.dropna(inplace=True)"
   ]
  },
  {
   "cell_type": "markdown",
   "id": "2a496701",
   "metadata": {
    "heading_collapsed": true
   },
   "source": [
    "# Improving our model"
   ]
  },
  {
   "cell_type": "markdown",
   "id": "8a95ef92",
   "metadata": {
    "hidden": true
   },
   "source": [
    "slightly update the model:\n",
    "- increase number of trees\n",
    "- reduce number of spilts\n"
   ]
  },
  {
   "cell_type": "code",
   "execution_count": 280,
   "id": "9303739c",
   "metadata": {
    "hidden": true
   },
   "outputs": [],
   "source": [
    "model = RandomForestClassifier(n_estimators=50, min_samples_split=100, random_state=1)"
   ]
  },
  {
   "cell_type": "markdown",
   "id": "69c0ada4",
   "metadata": {
    "hidden": true
   },
   "source": [
    "Rewrite predict method: use `predict_proba`instead of just `predict`, to tweak the treshold value (default = 0.5)\\\n",
    "Only get the second column, ie the proba of being a 1\\\n",
    "Reduce the treshold so to reduce total number of positives, and so that we are more sure that a positive is actually a positive"
   ]
  },
  {
   "cell_type": "code",
   "execution_count": 281,
   "id": "53cf8a26",
   "metadata": {
    "hidden": true
   },
   "outputs": [],
   "source": [
    "def predict(train, test, predictors, model):\n",
    "    model.fit(train[predictors], train.Target)\n",
    "    y_pred = model.predict_proba(test[predictors])[:,1]\n",
    "    # set a different treshold to 0.6 instead of 0.5 default\n",
    "    y_pred = (y_pred>=0.6).astype(int)\n",
    "    y_pred = pd.Series(y_pred, index = test.index, name = \"Predictions\")\n",
    "    combined = pd.concat([test.Target, y_pred], axis= 1)\n",
    "    return combined"
   ]
  },
  {
   "cell_type": "code",
   "execution_count": 282,
   "id": "b1f9a71f",
   "metadata": {
    "hidden": true
   },
   "outputs": [],
   "source": [
    "predictions = backtest(sp500_df, model,new_predictors)"
   ]
  },
  {
   "cell_type": "code",
   "execution_count": 283,
   "id": "1339f394",
   "metadata": {
    "hidden": true
   },
   "outputs": [
    {
     "data": {
      "text/html": [
       "<div>\n",
       "<style scoped>\n",
       "    .dataframe tbody tr th:only-of-type {\n",
       "        vertical-align: middle;\n",
       "    }\n",
       "\n",
       "    .dataframe tbody tr th {\n",
       "        vertical-align: top;\n",
       "    }\n",
       "\n",
       "    .dataframe thead th {\n",
       "        text-align: right;\n",
       "    }\n",
       "</style>\n",
       "<table border=\"1\" class=\"dataframe\">\n",
       "  <thead>\n",
       "    <tr style=\"text-align: right;\">\n",
       "      <th></th>\n",
       "      <th>Target</th>\n",
       "      <th>Predictions</th>\n",
       "    </tr>\n",
       "    <tr>\n",
       "      <th>Date</th>\n",
       "      <th></th>\n",
       "      <th></th>\n",
       "    </tr>\n",
       "  </thead>\n",
       "  <tbody>\n",
       "    <tr>\n",
       "      <th>2003-11-14</th>\n",
       "      <td>0</td>\n",
       "      <td>0</td>\n",
       "    </tr>\n",
       "    <tr>\n",
       "      <th>2003-11-17</th>\n",
       "      <td>0</td>\n",
       "      <td>1</td>\n",
       "    </tr>\n",
       "    <tr>\n",
       "      <th>2003-11-18</th>\n",
       "      <td>1</td>\n",
       "      <td>1</td>\n",
       "    </tr>\n",
       "    <tr>\n",
       "      <th>2003-11-19</th>\n",
       "      <td>0</td>\n",
       "      <td>1</td>\n",
       "    </tr>\n",
       "    <tr>\n",
       "      <th>2003-11-20</th>\n",
       "      <td>1</td>\n",
       "      <td>1</td>\n",
       "    </tr>\n",
       "    <tr>\n",
       "      <th>...</th>\n",
       "      <td>...</td>\n",
       "      <td>...</td>\n",
       "    </tr>\n",
       "    <tr>\n",
       "      <th>2022-07-01</th>\n",
       "      <td>1</td>\n",
       "      <td>1</td>\n",
       "    </tr>\n",
       "    <tr>\n",
       "      <th>2022-07-05</th>\n",
       "      <td>1</td>\n",
       "      <td>0</td>\n",
       "    </tr>\n",
       "    <tr>\n",
       "      <th>2022-07-06</th>\n",
       "      <td>1</td>\n",
       "      <td>0</td>\n",
       "    </tr>\n",
       "    <tr>\n",
       "      <th>2022-07-07</th>\n",
       "      <td>0</td>\n",
       "      <td>0</td>\n",
       "    </tr>\n",
       "    <tr>\n",
       "      <th>2022-07-08</th>\n",
       "      <td>0</td>\n",
       "      <td>0</td>\n",
       "    </tr>\n",
       "  </tbody>\n",
       "</table>\n",
       "<p>4693 rows × 2 columns</p>\n",
       "</div>"
      ],
      "text/plain": [
       "            Target  Predictions\n",
       "Date                           \n",
       "2003-11-14       0            0\n",
       "2003-11-17       0            1\n",
       "2003-11-18       1            1\n",
       "2003-11-19       0            1\n",
       "2003-11-20       1            1\n",
       "...            ...          ...\n",
       "2022-07-01       1            1\n",
       "2022-07-05       1            0\n",
       "2022-07-06       1            0\n",
       "2022-07-07       0            0\n",
       "2022-07-08       0            0\n",
       "\n",
       "[4693 rows x 2 columns]"
      ]
     },
     "execution_count": 283,
     "metadata": {},
     "output_type": "execute_result"
    }
   ],
   "source": [
    "predictions"
   ]
  },
  {
   "cell_type": "code",
   "execution_count": 284,
   "id": "39edffab",
   "metadata": {
    "hidden": true
   },
   "outputs": [
    {
     "data": {
      "text/plain": [
       "0.5838587641866331"
      ]
     },
     "execution_count": 284,
     "metadata": {},
     "output_type": "execute_result"
    }
   ],
   "source": [
    "precision_score(predictions.Target, predictions.Predictions)"
   ]
  },
  {
   "cell_type": "markdown",
   "id": "05bff209",
   "metadata": {
    "hidden": true
   },
   "source": [
    "Supposedly a bit better than our baseline, but not recommended to use it to buy stock!"
   ]
  },
  {
   "cell_type": "markdown",
   "id": "9f21f604",
   "metadata": {
    "heading_collapsed": true
   },
   "source": [
    "# Next step"
   ]
  },
  {
   "cell_type": "markdown",
   "id": "43db9da1",
   "metadata": {
    "hidden": true
   },
   "source": [
    "What could we do to improve the model? \\\n",
    "SP500 indeces are only open at US business hours\\\n",
    "- Try to look at other indexes around the world to see if they can be correlated\n",
    "- Add news about inflation, interest rate... \n",
    "- Add key stocks and secotrs: example Tech. If Tech goes downs, chances are that other stocks will go down\n",
    "- Increase resolution (granularity)"
   ]
  },
  {
   "cell_type": "markdown",
   "id": "97e721bd",
   "metadata": {
    "heading_collapsed": true
   },
   "source": [
    "# do a  gridsearch? Best number of trees,..."
   ]
  },
  {
   "cell_type": "code",
   "execution_count": null,
   "id": "220d85a7",
   "metadata": {
    "hidden": true
   },
   "outputs": [],
   "source": []
  }
 ],
 "metadata": {
  "kernelspec": {
   "display_name": "Python 3 (ipykernel)",
   "language": "python",
   "name": "python3"
  },
  "language_info": {
   "codemirror_mode": {
    "name": "ipython",
    "version": 3
   },
   "file_extension": ".py",
   "mimetype": "text/x-python",
   "name": "python",
   "nbconvert_exporter": "python",
   "pygments_lexer": "ipython3",
   "version": "3.8.12"
  },
  "toc": {
   "base_numbering": 1,
   "nav_menu": {},
   "number_sections": true,
   "sideBar": true,
   "skip_h1_title": false,
   "title_cell": "Table of Contents",
   "title_sidebar": "Contents",
   "toc_cell": false,
   "toc_position": {},
   "toc_section_display": true,
   "toc_window_display": false
  }
 },
 "nbformat": 4,
 "nbformat_minor": 5
}
